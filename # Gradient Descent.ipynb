{
 "cells": [
  {
   "cell_type": "code",
   "execution_count": 1,
   "id": "3c5d8b0e",
   "metadata": {},
   "outputs": [],
   "source": [
    "# Libraries used\n",
    "import pandas as pd\n",
    "import math\n",
    "import matplotlib.pyplot as plt\n",
    "import numpy as np"
   ]
  },
  {
   "cell_type": "code",
   "execution_count": 2,
   "id": "f1fd7235",
   "metadata": {},
   "outputs": [
    {
     "data": {
      "text/html": [
       "<div>\n",
       "<style scoped>\n",
       "    .dataframe tbody tr th:only-of-type {\n",
       "        vertical-align: middle;\n",
       "    }\n",
       "\n",
       "    .dataframe tbody tr th {\n",
       "        vertical-align: top;\n",
       "    }\n",
       "\n",
       "    .dataframe thead th {\n",
       "        text-align: right;\n",
       "    }\n",
       "</style>\n",
       "<table border=\"1\" class=\"dataframe\">\n",
       "  <thead>\n",
       "    <tr style=\"text-align: right;\">\n",
       "      <th></th>\n",
       "      <th>Dosage (mL)</th>\n",
       "      <th>Symptomatic Days</th>\n",
       "    </tr>\n",
       "  </thead>\n",
       "  <tbody>\n",
       "    <tr>\n",
       "      <th>0</th>\n",
       "      <td>0.0</td>\n",
       "      <td>12.0</td>\n",
       "    </tr>\n",
       "    <tr>\n",
       "      <th>1</th>\n",
       "      <td>0.0</td>\n",
       "      <td>11.0</td>\n",
       "    </tr>\n",
       "    <tr>\n",
       "      <th>2</th>\n",
       "      <td>0.0</td>\n",
       "      <td>11.0</td>\n",
       "    </tr>\n",
       "    <tr>\n",
       "      <th>3</th>\n",
       "      <td>0.0</td>\n",
       "      <td>10.0</td>\n",
       "    </tr>\n",
       "    <tr>\n",
       "      <th>4</th>\n",
       "      <td>0.0</td>\n",
       "      <td>12.0</td>\n",
       "    </tr>\n",
       "  </tbody>\n",
       "</table>\n",
       "</div>"
      ],
      "text/plain": [
       "   Dosage (mL)  Symptomatic Days\n",
       "0          0.0              12.0\n",
       "1          0.0              11.0\n",
       "2          0.0              11.0\n",
       "3          0.0              10.0\n",
       "4          0.0              12.0"
      ]
     },
     "execution_count": 2,
     "metadata": {},
     "output_type": "execute_result"
    }
   ],
   "source": [
    "data = pd.read_csv('Assignment#1_data (1).csv')\n",
    "data.head()"
   ]
  },
  {
   "cell_type": "code",
   "execution_count": 3,
   "id": "7560717d",
   "metadata": {},
   "outputs": [
    {
     "data": {
      "text/html": [
       "<div>\n",
       "<style scoped>\n",
       "    .dataframe tbody tr th:only-of-type {\n",
       "        vertical-align: middle;\n",
       "    }\n",
       "\n",
       "    .dataframe tbody tr th {\n",
       "        vertical-align: top;\n",
       "    }\n",
       "\n",
       "    .dataframe thead th {\n",
       "        text-align: right;\n",
       "    }\n",
       "</style>\n",
       "<table border=\"1\" class=\"dataframe\">\n",
       "  <thead>\n",
       "    <tr style=\"text-align: right;\">\n",
       "      <th></th>\n",
       "      <th>Dosage (mL)</th>\n",
       "      <th>Symptomatic Days</th>\n",
       "    </tr>\n",
       "  </thead>\n",
       "  <tbody>\n",
       "    <tr>\n",
       "      <th>count</th>\n",
       "      <td>68.000000</td>\n",
       "      <td>68.000000</td>\n",
       "    </tr>\n",
       "    <tr>\n",
       "      <th>mean</th>\n",
       "      <td>0.527693</td>\n",
       "      <td>10.328685</td>\n",
       "    </tr>\n",
       "    <tr>\n",
       "      <th>std</th>\n",
       "      <td>0.303559</td>\n",
       "      <td>1.663422</td>\n",
       "    </tr>\n",
       "    <tr>\n",
       "      <th>min</th>\n",
       "      <td>0.000000</td>\n",
       "      <td>7.223388</td>\n",
       "    </tr>\n",
       "    <tr>\n",
       "      <th>25%</th>\n",
       "      <td>0.345000</td>\n",
       "      <td>8.991852</td>\n",
       "    </tr>\n",
       "    <tr>\n",
       "      <th>50%</th>\n",
       "      <td>0.551176</td>\n",
       "      <td>10.045220</td>\n",
       "    </tr>\n",
       "    <tr>\n",
       "      <th>75%</th>\n",
       "      <td>0.763312</td>\n",
       "      <td>11.740819</td>\n",
       "    </tr>\n",
       "    <tr>\n",
       "      <th>max</th>\n",
       "      <td>0.971710</td>\n",
       "      <td>13.700000</td>\n",
       "    </tr>\n",
       "  </tbody>\n",
       "</table>\n",
       "</div>"
      ],
      "text/plain": [
       "       Dosage (mL)  Symptomatic Days\n",
       "count    68.000000         68.000000\n",
       "mean      0.527693         10.328685\n",
       "std       0.303559          1.663422\n",
       "min       0.000000          7.223388\n",
       "25%       0.345000          8.991852\n",
       "50%       0.551176         10.045220\n",
       "75%       0.763312         11.740819\n",
       "max       0.971710         13.700000"
      ]
     },
     "execution_count": 3,
     "metadata": {},
     "output_type": "execute_result"
    }
   ],
   "source": [
    "data.describe()"
   ]
  },
  {
   "cell_type": "code",
   "execution_count": null,
   "id": "28d7a48a",
   "metadata": {},
   "outputs": [],
   "source": []
  },
  {
   "cell_type": "code",
   "execution_count": 16,
   "id": "240f335c",
   "metadata": {},
   "outputs": [
    {
     "data": {
      "text/plain": [
       "68"
      ]
     },
     "execution_count": 16,
     "metadata": {},
     "output_type": "execute_result"
    }
   ],
   "source": [
    "data['X'] = data['Dosage (mL)']\n",
    "data['Y'] = data['Symptomatic Days']\n",
    "len(data['X'])"
   ]
  },
  {
   "cell_type": "code",
   "execution_count": 17,
   "id": "0f904614",
   "metadata": {},
   "outputs": [
    {
     "data": {
      "text/plain": [
       "(35.883133267,\n",
       " 702.350600181,\n",
       " 25.109189653737396,\n",
       " 7439.745497145529,\n",
       " 354.04529924447246)"
      ]
     },
     "execution_count": 17,
     "metadata": {},
     "output_type": "execute_result"
    }
   ],
   "source": [
    "X = data['X'].sum()\n",
    "Y = data['Y'].sum()\n",
    "X_square = ((data['X'])*(data['X'])).sum()\n",
    "Y_square = ((data['Y'])*(data['Y'])).sum()\n",
    "XY = ((data['X'])*(data['Y'])).sum()\n",
    "X,Y,X_square, Y_square, XY"
   ]
  },
  {
   "cell_type": "code",
   "execution_count": 18,
   "id": "b78f3610",
   "metadata": {},
   "outputs": [
    {
     "data": {
      "text/plain": [
       "<matplotlib.collections.PathCollection at 0x1a0e0d2ecb0>"
      ]
     },
     "execution_count": 18,
     "metadata": {},
     "output_type": "execute_result"
    },
    {
     "data": {
      "image/png": "[encoded data removed]",
      "text/plain": [
       "<Figure size 720x360 with 1 Axes>"
      ]
     },
     "metadata": {
      "needs_background": "light"
     },
     "output_type": "display_data"
    }
   ],
   "source": [
    "plt.figure(figsize=(10,5))\n",
    "plt.suptitle('Pharma Data')\n",
    "plt.xlabel('Dosage (mL)')\n",
    "plt.ylabel('Symptomatic Days')\n",
    "plt.scatter(data['X'],data['Y'])"
   ]
  },
  {
   "cell_type": "markdown",
   "id": "c04ecd3a",
   "metadata": {},
   "source": [
    "# Inference from the graph\n",
    "\n",
    "At low dosage it shows high symptomatic days and at the same time when the dosage increases the symptomatic days is reducing drastically. For example, at 0 dosage the symtomatic days is 10 to 13, however, the symtomatic days reduced to 7 to 10 when the dossge increased to 1 mL.  So this data tells that the company's new drug can reduce the sytomatic days effectively. \n"
   ]
  },
  {
   "cell_type": "markdown",
   "id": "62f48170",
   "metadata": {},
   "source": [
    "# The correaltion coefficient"
   ]
  },
  {
   "cell_type": "code",
   "execution_count": 19,
   "id": "6f7ffd47",
   "metadata": {},
   "outputs": [
    {
     "data": {
      "text/plain": [
       "-0.4900859972495904"
      ]
     },
     "execution_count": 19,
     "metadata": {},
     "output_type": "execute_result"
    }
   ],
   "source": [
    "r = (68*XY - (X*Y)) / ((math.sqrt((68*X_square)-(X*X))) * (math.sqrt((68*Y_square) - (Y*Y))))\n",
    "r"
   ]
  },
  {
   "cell_type": "markdown",
   "id": "45e06f02",
   "metadata": {},
   "source": [
    "Inference\n",
    "\n",
    "There is a negative correlation between dosage and symptomatic days, which means when dosage increases the symptomatic days decreases, the drug seems to be effective, however, the r value is close to .5, eventhough, the correlation does not imply causation. \n"
   ]
  },
  {
   "cell_type": "markdown",
   "id": "9d2158ee",
   "metadata": {},
   "source": [
    "# Models"
   ]
  },
  {
   "cell_type": "markdown",
   "id": "db9f42a4",
   "metadata": {},
   "source": [
    "# Linear Regression"
   ]
  },
  {
   "cell_type": "code",
   "execution_count": 20,
   "id": "069705f1",
   "metadata": {},
   "outputs": [
    {
     "data": {
      "text/plain": [
       "-2.6855430475987916"
      ]
     },
     "execution_count": 20,
     "metadata": {},
     "output_type": "execute_result"
    }
   ],
   "source": [
    "m = ((68*XY) - (X*Y)) /((68*X_square) -(X*X))\n",
    "m"
   ]
  },
  {
   "cell_type": "code",
   "execution_count": 21,
   "id": "07312ff8",
   "metadata": {},
   "outputs": [
    {
     "data": {
      "text/plain": [
       "11.745827930180187"
      ]
     },
     "execution_count": 21,
     "metadata": {},
     "output_type": "execute_result"
    }
   ],
   "source": [
    "b = (Y - m*X)/68\n",
    "b"
   ]
  },
  {
   "cell_type": "code",
   "execution_count": 22,
   "id": "b8a2c5d0",
   "metadata": {},
   "outputs": [],
   "source": [
    "data['Predicted_Y'] = data['X']*m + b"
   ]
  },
  {
   "cell_type": "code",
   "execution_count": 23,
   "id": "7821dd20",
   "metadata": {},
   "outputs": [
    {
     "data": {
      "text/plain": [
       "[<matplotlib.lines.Line2D at 0x1a0e0d9b130>]"
      ]
     },
     "execution_count": 23,
     "metadata": {},
     "output_type": "execute_result"
    },
    {
     "data": {
      "image/png": "[encoded data removed]",
      "text/plain": [
       "<Figure size 720x360 with 1 Axes>"
      ]
     },
     "metadata": {
      "needs_background": "light"
     },
     "output_type": "display_data"
    }
   ],
   "source": [
    "plt.figure(figsize=(10,5))\n",
    "plt.suptitle('Pharma Data')\n",
    "plt.xlabel('Dosage (mL)')\n",
    "plt.ylabel('Symptomatic Days')\n",
    "plt.scatter(data['X'],data['Y'])\n",
    "\n",
    "z = np.polyfit(data['X'],data['Y'], 1)\n",
    "p = np.poly1d(z)\n",
    "\n",
    "#add trendline to plot\n",
    "plt.plot(data['X'], data['Predicted_Y'], color = 'r')"
   ]
  },
  {
   "cell_type": "markdown",
   "id": "b4c0af37",
   "metadata": {},
   "source": [
    "# Residuals"
   ]
  },
  {
   "cell_type": "code",
   "execution_count": 28,
   "id": "3dc4d3ee",
   "metadata": {},
   "outputs": [],
   "source": [
    "data['Residuals'] = data['Y'] - data['Predicted_Y']"
   ]
  },
  {
   "cell_type": "code",
   "execution_count": 29,
   "id": "4622bc76",
   "metadata": {},
   "outputs": [
    {
     "data": {
      "text/html": [
       "<div>\n",
       "<style scoped>\n",
       "    .dataframe tbody tr th:only-of-type {\n",
       "        vertical-align: middle;\n",
       "    }\n",
       "\n",
       "    .dataframe tbody tr th {\n",
       "        vertical-align: top;\n",
       "    }\n",
       "\n",
       "    .dataframe thead th {\n",
       "        text-align: right;\n",
       "    }\n",
       "</style>\n",
       "<table border=\"1\" class=\"dataframe\">\n",
       "  <thead>\n",
       "    <tr style=\"text-align: right;\">\n",
       "      <th></th>\n",
       "      <th>Dosage (mL)</th>\n",
       "      <th>Symptomatic Days</th>\n",
       "      <th>Y</th>\n",
       "      <th>X</th>\n",
       "      <th>Predicted_Y</th>\n",
       "      <th>Residuals</th>\n",
       "      <th>Ranked_Residuals</th>\n",
       "    </tr>\n",
       "  </thead>\n",
       "  <tbody>\n",
       "    <tr>\n",
       "      <th>0</th>\n",
       "      <td>0.0</td>\n",
       "      <td>12.0</td>\n",
       "      <td>12.0</td>\n",
       "      <td>0.0</td>\n",
       "      <td>11.745828</td>\n",
       "      <td>0.254172</td>\n",
       "      <td>2.222726</td>\n",
       "    </tr>\n",
       "    <tr>\n",
       "      <th>1</th>\n",
       "      <td>0.0</td>\n",
       "      <td>11.0</td>\n",
       "      <td>11.0</td>\n",
       "      <td>0.0</td>\n",
       "      <td>11.745828</td>\n",
       "      <td>-0.745828</td>\n",
       "      <td>2.191281</td>\n",
       "    </tr>\n",
       "    <tr>\n",
       "      <th>2</th>\n",
       "      <td>0.0</td>\n",
       "      <td>11.0</td>\n",
       "      <td>11.0</td>\n",
       "      <td>0.0</td>\n",
       "      <td>11.745828</td>\n",
       "      <td>-0.745828</td>\n",
       "      <td>2.115123</td>\n",
       "    </tr>\n",
       "    <tr>\n",
       "      <th>3</th>\n",
       "      <td>0.0</td>\n",
       "      <td>10.0</td>\n",
       "      <td>10.0</td>\n",
       "      <td>0.0</td>\n",
       "      <td>11.745828</td>\n",
       "      <td>-1.745828</td>\n",
       "      <td>2.112666</td>\n",
       "    </tr>\n",
       "    <tr>\n",
       "      <th>4</th>\n",
       "      <td>0.0</td>\n",
       "      <td>12.0</td>\n",
       "      <td>12.0</td>\n",
       "      <td>0.0</td>\n",
       "      <td>11.745828</td>\n",
       "      <td>0.254172</td>\n",
       "      <td>2.089169</td>\n",
       "    </tr>\n",
       "  </tbody>\n",
       "</table>\n",
       "</div>"
      ],
      "text/plain": [
       "   Dosage (mL)  Symptomatic Days     Y    X  Predicted_Y  Residuals  \\\n",
       "0          0.0              12.0  12.0  0.0    11.745828   0.254172   \n",
       "1          0.0              11.0  11.0  0.0    11.745828  -0.745828   \n",
       "2          0.0              11.0  11.0  0.0    11.745828  -0.745828   \n",
       "3          0.0              10.0  10.0  0.0    11.745828  -1.745828   \n",
       "4          0.0              12.0  12.0  0.0    11.745828   0.254172   \n",
       "\n",
       "   Ranked_Residuals  \n",
       "0          2.222726  \n",
       "1          2.191281  \n",
       "2          2.115123  \n",
       "3          2.112666  \n",
       "4          2.089169  "
      ]
     },
     "execution_count": 29,
     "metadata": {},
     "output_type": "execute_result"
    }
   ],
   "source": [
    "data['Ranked_Residuals'] = data['Residuals'].sort_values(ascending=False).values\n",
    "data.head()"
   ]
  },
  {
   "cell_type": "code",
   "execution_count": 58,
   "id": "c735fe2c",
   "metadata": {},
   "outputs": [
    {
     "data": {
      "image/png": "[encoded data removed]",
      "text/plain": [
       "<Figure size 432x288 with 1 Axes>"
      ]
     },
     "metadata": {
      "needs_background": "light"
     },
     "output_type": "display_data"
    }
   ],
   "source": [
    "fig = plt.figure()\n",
    "ax = fig.add_axes([1,1,1,2])\n",
    "ax.bar(range(len(data)),data['Ranked_Residuals'])\n",
    "plt.show()"
   ]
  },
  {
   "cell_type": "markdown",
   "id": "cdea9af8",
   "metadata": {},
   "source": [
    "# Residual Interpretation\n",
    "\n",
    "\n",
    "The residuals of this model show a range of -2 to 2."
   ]
  },
  {
   "cell_type": "code",
   "execution_count": 30,
   "id": "87558a67",
   "metadata": {},
   "outputs": [
    {
     "name": "stdout",
     "output_type": "stream",
     "text": [
      "Root Mean Square Error:\n",
      "\n",
      "1.4392609044930562\n"
     ]
    }
   ],
   "source": [
    "import numpy as np\n",
    "MSE = np.square(np.subtract(data['Y'],data['Predicted_Y'])).mean() \n",
    " \n",
    "RMSE = math.sqrt(MSE)\n",
    "print(\"Root Mean Square Error:\\n\")\n",
    "print(RMSE)"
   ]
  },
  {
   "cell_type": "markdown",
   "id": "9d702ebd",
   "metadata": {},
   "source": [
    "# Gradient Descent"
   ]
  },
  {
   "cell_type": "code",
   "execution_count": 32,
   "id": "8c2d32d9",
   "metadata": {},
   "outputs": [
    {
     "name": "stdout",
     "output_type": "stream",
     "text": [
      "m -2.6855370167807595, b 11.745824508685526, iteration 999999\n"
     ]
    }
   ],
   "source": [
    "m = 0 # Initially\n",
    "\n",
    "c = 0\n",
    "\n",
    "L = 0.0001\n",
    "\n",
    "epochs = 1000000 # Number of iterations, better to increase the epochs for smaller values of L\n",
    "\n",
    "\n",
    "\n",
    "Dependent = data['Y']\n",
    "Independent = data['X']\n",
    "\n",
    "n = float(len(Independent))\n",
    "\n",
    "for i in range(epochs):\n",
    "    Y_predicted = m*Independent + c\n",
    "    D_m = (-2/n) * sum(Independent * (Dependent - Y_predicted))\n",
    "    D_c = (-2/n) * sum(Dependent - Y_predicted)\n",
    "    m = m - (L*D_m)\n",
    "    c = c - (L*D_c)\n",
    "\n",
    "\n",
    "    \n",
    "print(\"m {}, b {}, iteration {}\".format(m,c,i))\n"
   ]
  },
  {
   "cell_type": "code",
   "execution_count": 33,
   "id": "b7abd26c",
   "metadata": {},
   "outputs": [
    {
     "name": "stdout",
     "output_type": "stream",
     "text": [
      "Root Mean Square Error:\n",
      "\n",
      "1.4392609044942233\n"
     ]
    }
   ],
   "source": [
    "data['Predicted_Y_Grad'] = m*data['X'] + c\n",
    "MSE = np.square(np.subtract(data['Y'],data['Predicted_Y_Grad'])).mean() \n",
    " \n",
    "RMSE = math.sqrt(MSE)\n",
    "print(\"Root Mean Square Error:\\n\")\n",
    "print(RMSE)"
   ]
  },
  {
   "cell_type": "markdown",
   "id": "50ecf34d",
   "metadata": {},
   "source": [
    "# Inferences and Interpretations\n",
    "\n",
    "\n",
    "1) The slope coefficient m = -2.6855 represents the mean decrease in the number of symptomatic days for every additional one mL in dosage. If your dosage increases by 1 mL, the average number of symptomatic days decreases approximately by two and half days.\n",
    "\n",
    "2) The intercept term b = 11.7458, that is the change in Y when X=0 i.e, change in Y when there is no influence of X. In here, when the dosage is zero, the symptomatic days will be increased approximately by 11 and half days.\n",
    " \n",
    "            \n",
    "            \n",
    "# Conclusion\n",
    "\n",
    "The given data shows a favourable support to the pharma company, because it has a negative slope towards the number of symptomatic days when compairing with the dosage. However, Health Canada needs to cross check the effieciency of drug by adding moore data and the side effect of the drug as well. "
   ]
  },
  {
   "cell_type": "markdown",
   "id": "55e8fe1e",
   "metadata": {},
   "source": []
  },
  {
   "cell_type": "code",
   "execution_count": null,
   "id": "b69b86e6",
   "metadata": {},
   "outputs": [],
   "source": []
  },
  {
   "cell_type": "code",
   "execution_count": null,
   "id": "cacc9f51",
   "metadata": {},
   "outputs": [],
   "source": []
  },
  {
   "cell_type": "code",
   "execution_count": null,
   "id": "05694f51",
   "metadata": {},
   "outputs": [],
   "source": [
    "\n"
   ]
  }
 ],
 "metadata": {
  "kernelspec": {
   "display_name": "Python 3 (ipykernel)",
   "language": "python",
   "name": "python3"
  },
  "language_info": {
   "codemirror_mode": {
    "name": "ipython",
    "version": 3
   },
   "file_extension": ".py",
   "mimetype": "text/x-python",
   "name": "python",
   "nbconvert_exporter": "python",
   "pygments_lexer": "ipython3",
   "version": "3.10.4"
  }
 },
 "nbformat": 4,
 "nbformat_minor": 5
}
