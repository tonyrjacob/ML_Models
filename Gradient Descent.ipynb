{
 "cells": [
  {
   "cell_type": "code",
   "execution_count": 2,
   "id": "41793ca1",
   "metadata": {},
   "outputs": [],
   "source": [
    "import numpy as np\n",
    "import pandas as pd\n",
    "import matplotlib.pyplot as plt"
   ]
  },
  {
   "cell_type": "code",
   "execution_count": 3,
   "id": "85436336",
   "metadata": {},
   "outputs": [
    {
     "data": {
      "text/html": [
       "<div>\n",
       "<style scoped>\n",
       "    .dataframe tbody tr th:only-of-type {\n",
       "        vertical-align: middle;\n",
       "    }\n",
       "\n",
       "    .dataframe tbody tr th {\n",
       "        vertical-align: top;\n",
       "    }\n",
       "\n",
       "    .dataframe thead th {\n",
       "        text-align: right;\n",
       "    }\n",
       "</style>\n",
       "<table border=\"1\" class=\"dataframe\">\n",
       "  <thead>\n",
       "    <tr style=\"text-align: right;\">\n",
       "      <th></th>\n",
       "      <th>x</th>\n",
       "      <th>y</th>\n",
       "    </tr>\n",
       "  </thead>\n",
       "  <tbody>\n",
       "    <tr>\n",
       "      <th>0</th>\n",
       "      <td>0</td>\n",
       "      <td>12.30257</td>\n",
       "    </tr>\n",
       "    <tr>\n",
       "      <th>1</th>\n",
       "      <td>1</td>\n",
       "      <td>20.19440</td>\n",
       "    </tr>\n",
       "    <tr>\n",
       "      <th>2</th>\n",
       "      <td>2</td>\n",
       "      <td>53.47424</td>\n",
       "    </tr>\n",
       "    <tr>\n",
       "      <th>3</th>\n",
       "      <td>3</td>\n",
       "      <td>60.52269</td>\n",
       "    </tr>\n",
       "    <tr>\n",
       "      <th>4</th>\n",
       "      <td>4</td>\n",
       "      <td>61.85855</td>\n",
       "    </tr>\n",
       "  </tbody>\n",
       "</table>\n",
       "</div>"
      ],
      "text/plain": [
       "   x         y\n",
       "0  0  12.30257\n",
       "1  1  20.19440\n",
       "2  2  53.47424\n",
       "3  3  60.52269\n",
       "4  4  61.85855"
      ]
     },
     "execution_count": 3,
     "metadata": {},
     "output_type": "execute_result"
    }
   ],
   "source": [
    "data = pd.read_csv('ML.csv')\n",
    "data.head()"
   ]
  },
  {
   "cell_type": "code",
   "execution_count": 4,
   "id": "4837771e",
   "metadata": {},
   "outputs": [
    {
     "data": {
      "image/png": "[encoded data removed]",
      "text/plain": [
       "<Figure size 432x288 with 1 Axes>"
      ]
     },
     "metadata": {
      "needs_background": "light"
     },
     "output_type": "display_data"
    }
   ],
   "source": [
    "Dependent = data.iloc[:,1]\n",
    "Independent = data.iloc[:,0]\n",
    "plt.scatter(Independent,Dependent)\n",
    "plt.show()"
   ]
  },
  {
   "cell_type": "code",
   "execution_count": null,
   "id": "197df7d5",
   "metadata": {},
   "outputs": [],
   "source": []
  },
  {
   "cell_type": "markdown",
   "id": "a7110814",
   "metadata": {},
   "source": [
    "# Gradient Descent"
   ]
  },
  {
   "cell_type": "code",
   "execution_count": 45,
   "id": "784d117b",
   "metadata": {},
   "outputs": [
    {
     "name": "stdout",
     "output_type": "stream",
     "text": [
      "m 5.59785576613239, b 37.19672608864154, iteration 999999\n"
     ]
    }
   ],
   "source": [
    "m = 0 # Initially\n",
    "\n",
    "c = 0\n",
    "\n",
    "L = 0.0001\n",
    "\n",
    "epochs = 1000000 # Number of iterations, better to increase the epochs for smaller values of L\n",
    "\n",
    "n = float(len(Independent))\n",
    "\n",
    "\n",
    "\n",
    "for i in range(epochs):\n",
    "    Y_predicted = m*Independent + c\n",
    "    D_m = (-2/n) * sum(Independent * (Dependent - Y_predicted))\n",
    "    D_c = (-2/n) * sum(Dependent - Y_predicted)\n",
    "    m = m - (L*D_m)\n",
    "    c = c - (L*D_c)\n",
    "\n",
    "\n",
    "    \n",
    "print(\"m {}, b {}, iteration {}\".format(m,c,i))\n"
   ]
  },
  {
   "cell_type": "markdown",
   "id": "a9c9f753",
   "metadata": {},
   "source": [
    "# Visualising the results"
   ]
  },
  {
   "cell_type": "code",
   "execution_count": 47,
   "id": "87c183ea",
   "metadata": {},
   "outputs": [
    {
     "data": {
      "image/png": "[encoded data removed]",
      "text/plain": [
       "<Figure size 432x288 with 1 Axes>"
      ]
     },
     "metadata": {
      "needs_background": "light"
     },
     "output_type": "display_data"
    }
   ],
   "source": [
    "Y_predicted_grad = m*Independent + c\n",
    "\n",
    "plt.scatter(Independent,Dependent)\n",
    "plt.scatter(Independent,Y_predicted_grad)\n",
    "plt.show()"
   ]
  },
  {
   "cell_type": "code",
   "execution_count": null,
   "id": "e13aa179",
   "metadata": {},
   "outputs": [],
   "source": []
  },
  {
   "cell_type": "code",
   "execution_count": 49,
   "id": "de78ebe7",
   "metadata": {},
   "outputs": [
    {
     "name": "stdout",
     "output_type": "stream",
     "text": [
      "Root Mean Square Error:\n",
      "\n",
      "16.189088909800248\n"
     ]
    }
   ],
   "source": [
    "import numpy as np\n",
    "import math\n",
    "\n",
    "data['Predicted_Y'] = m*data['x'] + c\n",
    "MSE = np.square(np.subtract(data['y'],data['Predicted_Y'])).mean() \n",
    " \n",
    "RMSE = math.sqrt(MSE)\n",
    "print(\"Root Mean Square Error:\\n\")\n",
    "print(RMSE)"
   ]
  },
  {
   "cell_type": "markdown",
   "id": "43f3c600",
   "metadata": {},
   "source": [
    "# R Square"
   ]
  },
  {
   "cell_type": "code",
   "execution_count": 50,
   "id": "56b1577b",
   "metadata": {},
   "outputs": [
    {
     "data": {
      "text/plain": [
       "8124.68459161194"
      ]
     },
     "execution_count": 50,
     "metadata": {},
     "output_type": "execute_result"
    }
   ],
   "source": [
    "SSR = (np.square(data['y']-data['Predicted_Y'])).sum()\n",
    "SSR"
   ]
  },
  {
   "cell_type": "code",
   "execution_count": 51,
   "id": "0ba115c0",
   "metadata": {},
   "outputs": [
    {
     "name": "stdout",
     "output_type": "stream",
     "text": [
      "121.16456258064517\n",
      "85837.9377540044\n",
      "0.9053485579430417\n"
     ]
    }
   ],
   "source": [
    "Y_mean = data['y'].mean()\n",
    "print(Y_mean)\n",
    "SST = (np.square(data['y']-Y_mean)).sum()\n",
    "print(SST)\n",
    "R_Square = 1 - (SSR/SST)\n",
    "print(R_Square)"
   ]
  },
  {
   "cell_type": "code",
   "execution_count": null,
   "id": "ceaeaa54",
   "metadata": {},
   "outputs": [],
   "source": []
  },
  {
   "cell_type": "code",
   "execution_count": null,
   "id": "f61b4f4e",
   "metadata": {},
   "outputs": [],
   "source": []
  }
 ],
 "metadata": {
  "kernelspec": {
   "display_name": "Python 3 (ipykernel)",
   "language": "python",
   "name": "python3"
  },
  "language_info": {
   "codemirror_mode": {
    "name": "ipython",
    "version": 3
   },
   "file_extension": ".py",
   "mimetype": "text/x-python",
   "name": "python",
   "nbconvert_exporter": "python",
   "pygments_lexer": "ipython3",
   "version": "3.10.4"
  }
 },
 "nbformat": 4,
 "nbformat_minor": 5
}
