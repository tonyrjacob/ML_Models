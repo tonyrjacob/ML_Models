{
 "cells": [
  {
   "cell_type": "code",
   "execution_count": 1,
   "id": "3c5d8b0e",
   "metadata": {},
   "outputs": [],
   "source": [
    "# Libraries used\n",
    "import pandas as pd\n",
    "import math\n",
    "import matplotlib.pyplot as plt\n",
    "import numpy as np"
   ]
  },
  {
   "cell_type": "code",
   "execution_count": 29,
   "id": "f1fd7235",
   "metadata": {},
   "outputs": [
    {
     "data": {
      "text/html": [
       "<div>\n",
       "<style scoped>\n",
       "    .dataframe tbody tr th:only-of-type {\n",
       "        vertical-align: middle;\n",
       "    }\n",
       "\n",
       "    .dataframe tbody tr th {\n",
       "        vertical-align: top;\n",
       "    }\n",
       "\n",
       "    .dataframe thead th {\n",
       "        text-align: right;\n",
       "    }\n",
       "</style>\n",
       "<table border=\"1\" class=\"dataframe\">\n",
       "  <thead>\n",
       "    <tr style=\"text-align: right;\">\n",
       "      <th></th>\n",
       "      <th>P(cancer)</th>\n",
       "      <th>avg years of vaping</th>\n",
       "      <th>access to health care</th>\n",
       "    </tr>\n",
       "  </thead>\n",
       "  <tbody>\n",
       "    <tr>\n",
       "      <th>0</th>\n",
       "      <td>0.0100</td>\n",
       "      <td>0.337286</td>\n",
       "      <td>10.23768</td>\n",
       "    </tr>\n",
       "    <tr>\n",
       "      <th>1</th>\n",
       "      <td>0.0115</td>\n",
       "      <td>1.345584</td>\n",
       "      <td>10.81874</td>\n",
       "    </tr>\n",
       "    <tr>\n",
       "      <th>2</th>\n",
       "      <td>0.0130</td>\n",
       "      <td>1.477897</td>\n",
       "      <td>11.43779</td>\n",
       "    </tr>\n",
       "    <tr>\n",
       "      <th>3</th>\n",
       "      <td>0.0145</td>\n",
       "      <td>0.664809</td>\n",
       "      <td>11.54056</td>\n",
       "    </tr>\n",
       "    <tr>\n",
       "      <th>4</th>\n",
       "      <td>0.0160</td>\n",
       "      <td>0.915358</td>\n",
       "      <td>11.64395</td>\n",
       "    </tr>\n",
       "  </tbody>\n",
       "</table>\n",
       "</div>"
      ],
      "text/plain": [
       "   P(cancer)  avg years of vaping  access to health care\n",
       "0     0.0100             0.337286               10.23768\n",
       "1     0.0115             1.345584               10.81874\n",
       "2     0.0130             1.477897               11.43779\n",
       "3     0.0145             0.664809               11.54056\n",
       "4     0.0160             0.915358               11.64395"
      ]
     },
     "execution_count": 29,
     "metadata": {},
     "output_type": "execute_result"
    }
   ],
   "source": [
    "data = pd.read_csv('data_final.csv')\n",
    "data.head()"
   ]
  },
  {
   "cell_type": "code",
   "execution_count": 12,
   "id": "7560717d",
   "metadata": {},
   "outputs": [
    {
     "data": {
      "text/html": [
       "<div>\n",
       "<style scoped>\n",
       "    .dataframe tbody tr th:only-of-type {\n",
       "        vertical-align: middle;\n",
       "    }\n",
       "\n",
       "    .dataframe tbody tr th {\n",
       "        vertical-align: top;\n",
       "    }\n",
       "\n",
       "    .dataframe thead th {\n",
       "        text-align: right;\n",
       "    }\n",
       "</style>\n",
       "<table border=\"1\" class=\"dataframe\">\n",
       "  <thead>\n",
       "    <tr style=\"text-align: right;\">\n",
       "      <th></th>\n",
       "      <th>P(cancer)</th>\n",
       "      <th>avg years of vaping</th>\n",
       "      <th>access to health care</th>\n",
       "    </tr>\n",
       "  </thead>\n",
       "  <tbody>\n",
       "    <tr>\n",
       "      <th>count</th>\n",
       "      <td>101.00000</td>\n",
       "      <td>101.000000</td>\n",
       "      <td>101.000000</td>\n",
       "    </tr>\n",
       "    <tr>\n",
       "      <th>mean</th>\n",
       "      <td>0.08500</td>\n",
       "      <td>8.477349</td>\n",
       "      <td>10.097708</td>\n",
       "    </tr>\n",
       "    <tr>\n",
       "      <th>std</th>\n",
       "      <td>0.04395</td>\n",
       "      <td>4.501034</td>\n",
       "      <td>1.632993</td>\n",
       "    </tr>\n",
       "    <tr>\n",
       "      <th>min</th>\n",
       "      <td>0.01000</td>\n",
       "      <td>0.337286</td>\n",
       "      <td>6.862980</td>\n",
       "    </tr>\n",
       "    <tr>\n",
       "      <th>25%</th>\n",
       "      <td>0.04750</td>\n",
       "      <td>4.821589</td>\n",
       "      <td>8.458349</td>\n",
       "    </tr>\n",
       "    <tr>\n",
       "      <th>50%</th>\n",
       "      <td>0.08500</td>\n",
       "      <td>8.599050</td>\n",
       "      <td>10.068440</td>\n",
       "    </tr>\n",
       "    <tr>\n",
       "      <th>75%</th>\n",
       "      <td>0.12250</td>\n",
       "      <td>12.293590</td>\n",
       "      <td>11.625170</td>\n",
       "    </tr>\n",
       "    <tr>\n",
       "      <th>max</th>\n",
       "      <td>0.16000</td>\n",
       "      <td>16.017460</td>\n",
       "      <td>12.825900</td>\n",
       "    </tr>\n",
       "  </tbody>\n",
       "</table>\n",
       "</div>"
      ],
      "text/plain": [
       "       P(cancer)  avg years of vaping  access to health care\n",
       "count  101.00000           101.000000             101.000000\n",
       "mean     0.08500             8.477349              10.097708\n",
       "std      0.04395             4.501034               1.632993\n",
       "min      0.01000             0.337286               6.862980\n",
       "25%      0.04750             4.821589               8.458349\n",
       "50%      0.08500             8.599050              10.068440\n",
       "75%      0.12250            12.293590              11.625170\n",
       "max      0.16000            16.017460              12.825900"
      ]
     },
     "execution_count": 12,
     "metadata": {},
     "output_type": "execute_result"
    }
   ],
   "source": [
    "data.describe()"
   ]
  },
  {
   "cell_type": "code",
   "execution_count": null,
   "id": "28d7a48a",
   "metadata": {},
   "outputs": [],
   "source": []
  },
  {
   "cell_type": "code",
   "execution_count": 13,
   "id": "240f335c",
   "metadata": {},
   "outputs": [],
   "source": [
    "data['X1'] = data['avg years of vaping']\n",
    "data['X2'] = data['access to health care']\n",
    "data['Y'] = data['P(cancer)']"
   ]
  },
  {
   "cell_type": "code",
   "execution_count": 25,
   "id": "0f904614",
   "metadata": {},
   "outputs": [
    {
     "data": {
      "text/plain": [
       "(856.212204,\n",
       " 1019.868533,\n",
       " 8.585,\n",
       " 9284.340249914812,\n",
       " 10565.001431825403,\n",
       " 0.9228875,\n",
       " 92.47878551850002,\n",
       " 82.27367857099999)"
      ]
     },
     "execution_count": 25,
     "metadata": {},
     "output_type": "execute_result"
    }
   ],
   "source": [
    "X1 = data['X1'].sum()\n",
    "X2 = data['X2'].sum()\n",
    "Y = data['Y'].sum()\n",
    "X1_square = ((data['X1'])*(data['X1'])).sum()\n",
    "X2_square = ((data['X2'])*(data['X2'])).sum()\n",
    "Y_square = ((data['Y'])*(data['Y'])).sum()\n",
    "X1Y = ((data['X1'])*(data['Y'])).sum()\n",
    "X2Y = ((data['X2'])*(data['Y'])).sum()\n",
    "X1,X2,Y,X1_square,X2_square, Y_square, X1Y,X2Y"
   ]
  },
  {
   "cell_type": "code",
   "execution_count": 26,
   "id": "b78f3610",
   "metadata": {},
   "outputs": [
    {
     "data": {
      "text/plain": [
       "<matplotlib.legend.Legend at 0x22cd54b6710>"
      ]
     },
     "execution_count": 26,
     "metadata": {},
     "output_type": "execute_result"
    },
    {
     "data": {
      "image/png": "[encoded data removed]",
      "text/plain": [
       "<Figure size 720x360 with 1 Axes>"
      ]
     },
     "metadata": {
      "needs_background": "light"
     },
     "output_type": "display_data"
    }
   ],
   "source": [
    "plt.figure(figsize=(10,5))\n",
    "plt.suptitle('Health Data')\n",
    "plt.xlabel('Independent Variables')\n",
    "plt.ylabel('P(cancer)')\n",
    "plt.scatter(data['X1'],data['Y'], color = 'r')\n",
    "plt.scatter(data['X2'],data['Y'])\n",
    "plt.legend(['avg years of vaping','access to health care'], loc='best')"
   ]
  },
  {
   "cell_type": "markdown",
   "id": "c04ecd3a",
   "metadata": {},
   "source": [
    "# Inference from the graph\n",
    "\n",
    "From the graph it is evident that Avg years of vaping has a linear relationship with the probability of getting cancer, however the realtionship between P(cancer) and Acces ti health care is not linear."
   ]
  },
  {
   "cell_type": "markdown",
   "id": "62f48170",
   "metadata": {},
   "source": [
    "# The correaltion coefficient"
   ]
  },
  {
   "cell_type": "code",
   "execution_count": 27,
   "id": "6f7ffd47",
   "metadata": {},
   "outputs": [
    {
     "data": {
      "text/plain": [
       "(0.9958845395304512, -0.615176127728155)"
      ]
     },
     "execution_count": 27,
     "metadata": {},
     "output_type": "execute_result"
    }
   ],
   "source": [
    "r_X1 = (101*X1Y - (X1*Y)) / ((math.sqrt((101*X1_square)-(X1*X1))) * (math.sqrt((101*Y_square) - (Y*Y))))\n",
    "r_X2 = (101*X2Y - (X2*Y)) / ((math.sqrt((101*X2_square)-(X2*X2))) * (math.sqrt((101*Y_square) - (Y*Y))))\n",
    "r_X1,r_X2"
   ]
  },
  {
   "cell_type": "markdown",
   "id": "45e06f02",
   "metadata": {},
   "source": [
    "# Inference\n",
    "\n",
    "Like we have seen in the graph, the Avg years of vaping and probability of getting cancer are highly-positively correlated, that is, probability of getting cancer increases with increase in the number of years of vaping. But the correlation coefficient shows that access to health care and probability of getting cancer have some negative correaltion. \n"
   ]
  },
  {
   "cell_type": "markdown",
   "id": "9d2158ee",
   "metadata": {},
   "source": [
    "# Models"
   ]
  },
  {
   "cell_type": "markdown",
   "id": "db9f42a4",
   "metadata": {},
   "source": [
    "# Single Linear Regression"
   ]
  },
  {
   "cell_type": "markdown",
   "id": "f30b08e2",
   "metadata": {},
   "source": [
    "# For avg years of vaping"
   ]
  },
  {
   "cell_type": "code",
   "execution_count": 28,
   "id": "069705f1",
   "metadata": {},
   "outputs": [
    {
     "data": {
      "text/plain": [
       "0.009724293950384572"
      ]
     },
     "execution_count": 28,
     "metadata": {},
     "output_type": "execute_result"
    }
   ],
   "source": [
    "m = ((101*X1Y) - (X1*Y)) /((101*X1_square) -(X1*X1))\n",
    "m"
   ]
  },
  {
   "cell_type": "code",
   "execution_count": 29,
   "id": "07312ff8",
   "metadata": {},
   "outputs": [
    {
     "data": {
      "text/plain": [
       "0.0025637707366075245"
      ]
     },
     "execution_count": 29,
     "metadata": {},
     "output_type": "execute_result"
    }
   ],
   "source": [
    "b = (Y - m*X1)/101\n",
    "b"
   ]
  },
  {
   "cell_type": "code",
   "execution_count": 30,
   "id": "b8a2c5d0",
   "metadata": {},
   "outputs": [],
   "source": [
    "data['Predicted_Y_with_X1'] = data['X1']*m + b"
   ]
  },
  {
   "cell_type": "code",
   "execution_count": 86,
   "id": "7821dd20",
   "metadata": {},
   "outputs": [
    {
     "data": {
      "text/plain": [
       "<matplotlib.legend.Legend at 0x22cd403b130>"
      ]
     },
     "execution_count": 86,
     "metadata": {},
     "output_type": "execute_result"
    },
    {
     "data": {
      "image/png": "[encoded data removed]",
      "text/plain": [
       "<Figure size 720x360 with 1 Axes>"
      ]
     },
     "metadata": {
      "needs_background": "light"
     },
     "output_type": "display_data"
    }
   ],
   "source": [
    "plt.figure(figsize=(10,5))\n",
    "plt.suptitle('Health Data')\n",
    "plt.xlabel('avg years of vaping')\n",
    "plt.ylabel('P(cancer)')\n",
    "plt.scatter(data['X1'],data['Y'], label = 'Original Points')\n",
    "\n",
    "z = np.polyfit(data['X1'],data['Y'], 1)\n",
    "p = np.poly1d(z)\n",
    "\n",
    "#add trendline to plot\n",
    "plt.plot(data['X1'], data['Predicted_Y_with_X1'], color = 'r', label = 'Trendline')\n",
    "plt.legend()"
   ]
  },
  {
   "cell_type": "markdown",
   "id": "b4c0af37",
   "metadata": {},
   "source": [
    "# Residuals"
   ]
  },
  {
   "cell_type": "code",
   "execution_count": 35,
   "id": "4622bc76",
   "metadata": {},
   "outputs": [
    {
     "data": {
      "text/html": [
       "<div>\n",
       "<style scoped>\n",
       "    .dataframe tbody tr th:only-of-type {\n",
       "        vertical-align: middle;\n",
       "    }\n",
       "\n",
       "    .dataframe tbody tr th {\n",
       "        vertical-align: top;\n",
       "    }\n",
       "\n",
       "    .dataframe thead th {\n",
       "        text-align: right;\n",
       "    }\n",
       "</style>\n",
       "<table border=\"1\" class=\"dataframe\">\n",
       "  <thead>\n",
       "    <tr style=\"text-align: right;\">\n",
       "      <th></th>\n",
       "      <th>P(cancer)</th>\n",
       "      <th>avg years of vaping</th>\n",
       "      <th>access to health care</th>\n",
       "      <th>X1</th>\n",
       "      <th>X2</th>\n",
       "      <th>Y</th>\n",
       "      <th>Predicted_Y_with_X1</th>\n",
       "      <th>Residuals</th>\n",
       "      <th>Ranked_Residuals</th>\n",
       "    </tr>\n",
       "  </thead>\n",
       "  <tbody>\n",
       "    <tr>\n",
       "      <th>0</th>\n",
       "      <td>0.0100</td>\n",
       "      <td>0.337286</td>\n",
       "      <td>10.23768</td>\n",
       "      <td>0.337286</td>\n",
       "      <td>10.23768</td>\n",
       "      <td>0.0100</td>\n",
       "      <td>0.005844</td>\n",
       "      <td>0.004156</td>\n",
       "      <td>0.009390</td>\n",
       "    </tr>\n",
       "    <tr>\n",
       "      <th>1</th>\n",
       "      <td>0.0115</td>\n",
       "      <td>1.345584</td>\n",
       "      <td>10.81874</td>\n",
       "      <td>1.345584</td>\n",
       "      <td>10.81874</td>\n",
       "      <td>0.0115</td>\n",
       "      <td>0.015649</td>\n",
       "      <td>-0.004149</td>\n",
       "      <td>0.008680</td>\n",
       "    </tr>\n",
       "    <tr>\n",
       "      <th>2</th>\n",
       "      <td>0.0130</td>\n",
       "      <td>1.477897</td>\n",
       "      <td>11.43779</td>\n",
       "      <td>1.477897</td>\n",
       "      <td>11.43779</td>\n",
       "      <td>0.0130</td>\n",
       "      <td>0.016935</td>\n",
       "      <td>-0.003935</td>\n",
       "      <td>0.008585</td>\n",
       "    </tr>\n",
       "    <tr>\n",
       "      <th>3</th>\n",
       "      <td>0.0145</td>\n",
       "      <td>0.664809</td>\n",
       "      <td>11.54056</td>\n",
       "      <td>0.664809</td>\n",
       "      <td>11.54056</td>\n",
       "      <td>0.0145</td>\n",
       "      <td>0.009029</td>\n",
       "      <td>0.005471</td>\n",
       "      <td>0.007910</td>\n",
       "    </tr>\n",
       "    <tr>\n",
       "      <th>4</th>\n",
       "      <td>0.0160</td>\n",
       "      <td>0.915358</td>\n",
       "      <td>11.64395</td>\n",
       "      <td>0.915358</td>\n",
       "      <td>11.64395</td>\n",
       "      <td>0.0160</td>\n",
       "      <td>0.011465</td>\n",
       "      <td>0.004535</td>\n",
       "      <td>0.007884</td>\n",
       "    </tr>\n",
       "  </tbody>\n",
       "</table>\n",
       "</div>"
      ],
      "text/plain": [
       "   P(cancer)  avg years of vaping  access to health care        X1        X2  \\\n",
       "0     0.0100             0.337286               10.23768  0.337286  10.23768   \n",
       "1     0.0115             1.345584               10.81874  1.345584  10.81874   \n",
       "2     0.0130             1.477897               11.43779  1.477897  11.43779   \n",
       "3     0.0145             0.664809               11.54056  0.664809  11.54056   \n",
       "4     0.0160             0.915358               11.64395  0.915358  11.64395   \n",
       "\n",
       "        Y  Predicted_Y_with_X1  Residuals  Ranked_Residuals  \n",
       "0  0.0100             0.005844   0.004156          0.009390  \n",
       "1  0.0115             0.015649  -0.004149          0.008680  \n",
       "2  0.0130             0.016935  -0.003935          0.008585  \n",
       "3  0.0145             0.009029   0.005471          0.007910  \n",
       "4  0.0160             0.011465   0.004535          0.007884  "
      ]
     },
     "execution_count": 35,
     "metadata": {},
     "output_type": "execute_result"
    }
   ],
   "source": [
    "data['Residuals'] = data['Y'] - data['Predicted_Y_with_X1']\n",
    "data['Ranked_Residuals'] = data['Residuals'].sort_values(ascending=False).values\n",
    "data.head()"
   ]
  },
  {
   "cell_type": "code",
   "execution_count": 48,
   "id": "c735fe2c",
   "metadata": {},
   "outputs": [
    {
     "data": {
      "image/png": "[encoded data removed]",
      "text/plain": [
       "<Figure size 432x288 with 1 Axes>"
      ]
     },
     "metadata": {
      "needs_background": "light"
     },
     "output_type": "display_data"
    }
   ],
   "source": [
    "fig = plt.figure()\n",
    "ax = fig.add_axes([1,1,1,2])\n",
    "plt.title('Residuals')\n",
    "plt.xlabel('Observations')\n",
    "plt.ylabel('Residuals')\n",
    "ax.bar(range(len(data)),data['Ranked_Residuals'])\n",
    "plt.show()"
   ]
  },
  {
   "cell_type": "code",
   "execution_count": 78,
   "id": "0831a3c7",
   "metadata": {},
   "outputs": [
    {
     "data": {
      "text/plain": [
       "(0.0094, -0.00867)"
      ]
     },
     "execution_count": 78,
     "metadata": {},
     "output_type": "execute_result"
    }
   ],
   "source": [
    "round(data['Ranked_Residuals'].max(),4), round(data['Ranked_Residuals'].min(),5)"
   ]
  },
  {
   "cell_type": "markdown",
   "id": "cdea9af8",
   "metadata": {},
   "source": [
    "# Residual Interpretation\n",
    "\n",
    "\n",
    "The residuals of this model show a range of (0.0094, -0.00867)."
   ]
  },
  {
   "cell_type": "code",
   "execution_count": 37,
   "id": "87558a67",
   "metadata": {},
   "outputs": [
    {
     "name": "stdout",
     "output_type": "stream",
     "text": [
      "Root Mean Square Error:\n",
      "\n",
      "0.003963488899325733\n"
     ]
    }
   ],
   "source": [
    "import numpy as np\n",
    "MSE = np.square(np.subtract(data['Y'],data['Predicted_Y_with_X1'])).mean() \n",
    " \n",
    "RMSE = math.sqrt(MSE)\n",
    "print(\"Root Mean Square Error:\\n\")\n",
    "print(RMSE)"
   ]
  },
  {
   "cell_type": "code",
   "execution_count": 79,
   "id": "0f1d6382",
   "metadata": {},
   "outputs": [
    {
     "name": "stdout",
     "output_type": "stream",
     "text": [
      "0.0015866336697629092\n",
      "0.085\n",
      "0.1931625\n",
      "0.9917860160757761\n"
     ]
    }
   ],
   "source": [
    "SSR = (np.square(data['Y']-data['Predicted_Y_with_X1'])).sum()\n",
    "print(SSR)\n",
    "Y_mean = data['Y'].mean()\n",
    "print(Y_mean)\n",
    "SST = (np.square(data['Y']-Y_mean)).sum()\n",
    "print(SST)\n",
    "R_Square = 1 - (SSR/SST)\n",
    "print(R_Square)"
   ]
  },
  {
   "cell_type": "markdown",
   "id": "66eb424e",
   "metadata": {},
   "source": [
    "# Inference from R^2\n",
    "\n",
    "R_Square value is .99 for the model with P(cancer) and Average years of vaping. That is, 99% of the variability observed in the probability of cancer is explained by the model. \n"
   ]
  },
  {
   "cell_type": "code",
   "execution_count": null,
   "id": "cc58e77e",
   "metadata": {},
   "outputs": [],
   "source": []
  },
  {
   "cell_type": "markdown",
   "id": "af6a48d9",
   "metadata": {},
   "source": [
    "# Single Linear Regression ---- For Access to health care"
   ]
  },
  {
   "cell_type": "code",
   "execution_count": 51,
   "id": "517dab54",
   "metadata": {},
   "outputs": [
    {
     "data": {
      "text/plain": [
       "-0.016556808442304716"
      ]
     },
     "execution_count": 51,
     "metadata": {},
     "output_type": "execute_result"
    }
   ],
   "source": [
    "m2 = ((101*X2Y) - (X2*Y)) /((101*X2_square) -(X2*X2))\n",
    "m2"
   ]
  },
  {
   "cell_type": "code",
   "execution_count": 52,
   "id": "fcfe6be8",
   "metadata": {},
   "outputs": [
    {
     "data": {
      "text/plain": [
       "0.2521858211605478"
      ]
     },
     "execution_count": 52,
     "metadata": {},
     "output_type": "execute_result"
    }
   ],
   "source": [
    "b2 = (Y - m*X2)/101\n",
    "b2"
   ]
  },
  {
   "cell_type": "code",
   "execution_count": 53,
   "id": "f43d0c44",
   "metadata": {},
   "outputs": [],
   "source": [
    "data['Predicted_Y_with_X2'] = data['X2']*m2 + b2"
   ]
  },
  {
   "cell_type": "code",
   "execution_count": 85,
   "id": "2a58137c",
   "metadata": {},
   "outputs": [
    {
     "data": {
      "text/plain": [
       "<matplotlib.legend.Legend at 0x22cd9049a80>"
      ]
     },
     "execution_count": 85,
     "metadata": {},
     "output_type": "execute_result"
    },
    {
     "data": {
      "image/png": "[encoded data removed]",
      "text/plain": [
       "<Figure size 720x360 with 1 Axes>"
      ]
     },
     "metadata": {
      "needs_background": "light"
     },
     "output_type": "display_data"
    }
   ],
   "source": [
    "plt.figure(figsize=(10,5))\n",
    "plt.suptitle('Health Data')\n",
    "plt.xlabel('avg years of vaping')\n",
    "plt.ylabel('P(cancer)')\n",
    "plt.scatter(data['X2'],data['Y'], label = 'Original points')\n",
    "\n",
    "z = np.polyfit(data['X2'],data['Y'], 1)\n",
    "p = np.poly1d(z)\n",
    "\n",
    "#add trendline to plot\n",
    "plt.plot(data['X2'], data['Predicted_Y_with_X2'], color = 'r', label = 'Trendline')\n",
    "plt.legend()"
   ]
  },
  {
   "cell_type": "markdown",
   "id": "340e0736",
   "metadata": {},
   "source": [
    "# Residuals"
   ]
  },
  {
   "cell_type": "code",
   "execution_count": 58,
   "id": "79cd893c",
   "metadata": {},
   "outputs": [
    {
     "data": {
      "text/html": [
       "<div>\n",
       "<style scoped>\n",
       "    .dataframe tbody tr th:only-of-type {\n",
       "        vertical-align: middle;\n",
       "    }\n",
       "\n",
       "    .dataframe tbody tr th {\n",
       "        vertical-align: top;\n",
       "    }\n",
       "\n",
       "    .dataframe thead th {\n",
       "        text-align: right;\n",
       "    }\n",
       "</style>\n",
       "<table border=\"1\" class=\"dataframe\">\n",
       "  <thead>\n",
       "    <tr style=\"text-align: right;\">\n",
       "      <th></th>\n",
       "      <th>P(cancer)</th>\n",
       "      <th>avg years of vaping</th>\n",
       "      <th>access to health care</th>\n",
       "      <th>X1</th>\n",
       "      <th>X2</th>\n",
       "      <th>Y</th>\n",
       "      <th>Predicted_Y_with_X1</th>\n",
       "      <th>Residuals</th>\n",
       "      <th>Ranked_Residuals</th>\n",
       "      <th>Predicted_Y_with_X2</th>\n",
       "      <th>Residuals_X2</th>\n",
       "      <th>Ranked_Residuals_X2</th>\n",
       "    </tr>\n",
       "  </thead>\n",
       "  <tbody>\n",
       "    <tr>\n",
       "      <th>0</th>\n",
       "      <td>0.0100</td>\n",
       "      <td>0.337286</td>\n",
       "      <td>10.23768</td>\n",
       "      <td>0.337286</td>\n",
       "      <td>10.23768</td>\n",
       "      <td>0.0100</td>\n",
       "      <td>0.005844</td>\n",
       "      <td>0.004156</td>\n",
       "      <td>0.009390</td>\n",
       "      <td>0.082683</td>\n",
       "      <td>-0.072683</td>\n",
       "      <td>0.085496</td>\n",
       "    </tr>\n",
       "    <tr>\n",
       "      <th>1</th>\n",
       "      <td>0.0115</td>\n",
       "      <td>1.345584</td>\n",
       "      <td>10.81874</td>\n",
       "      <td>1.345584</td>\n",
       "      <td>10.81874</td>\n",
       "      <td>0.0115</td>\n",
       "      <td>0.015649</td>\n",
       "      <td>-0.004149</td>\n",
       "      <td>0.008680</td>\n",
       "      <td>0.073062</td>\n",
       "      <td>-0.061562</td>\n",
       "      <td>0.082210</td>\n",
       "    </tr>\n",
       "    <tr>\n",
       "      <th>2</th>\n",
       "      <td>0.0130</td>\n",
       "      <td>1.477897</td>\n",
       "      <td>11.43779</td>\n",
       "      <td>1.477897</td>\n",
       "      <td>11.43779</td>\n",
       "      <td>0.0130</td>\n",
       "      <td>0.016935</td>\n",
       "      <td>-0.003935</td>\n",
       "      <td>0.008585</td>\n",
       "      <td>0.062813</td>\n",
       "      <td>-0.049813</td>\n",
       "      <td>0.077716</td>\n",
       "    </tr>\n",
       "    <tr>\n",
       "      <th>3</th>\n",
       "      <td>0.0145</td>\n",
       "      <td>0.664809</td>\n",
       "      <td>11.54056</td>\n",
       "      <td>0.664809</td>\n",
       "      <td>11.54056</td>\n",
       "      <td>0.0145</td>\n",
       "      <td>0.009029</td>\n",
       "      <td>0.005471</td>\n",
       "      <td>0.007910</td>\n",
       "      <td>0.061111</td>\n",
       "      <td>-0.046611</td>\n",
       "      <td>0.076246</td>\n",
       "    </tr>\n",
       "    <tr>\n",
       "      <th>4</th>\n",
       "      <td>0.0160</td>\n",
       "      <td>0.915358</td>\n",
       "      <td>11.64395</td>\n",
       "      <td>0.915358</td>\n",
       "      <td>11.64395</td>\n",
       "      <td>0.0160</td>\n",
       "      <td>0.011465</td>\n",
       "      <td>0.004535</td>\n",
       "      <td>0.007884</td>\n",
       "      <td>0.059399</td>\n",
       "      <td>-0.043399</td>\n",
       "      <td>0.071751</td>\n",
       "    </tr>\n",
       "  </tbody>\n",
       "</table>\n",
       "</div>"
      ],
      "text/plain": [
       "   P(cancer)  avg years of vaping  access to health care        X1        X2  \\\n",
       "0     0.0100             0.337286               10.23768  0.337286  10.23768   \n",
       "1     0.0115             1.345584               10.81874  1.345584  10.81874   \n",
       "2     0.0130             1.477897               11.43779  1.477897  11.43779   \n",
       "3     0.0145             0.664809               11.54056  0.664809  11.54056   \n",
       "4     0.0160             0.915358               11.64395  0.915358  11.64395   \n",
       "\n",
       "        Y  Predicted_Y_with_X1  Residuals  Ranked_Residuals  \\\n",
       "0  0.0100             0.005844   0.004156          0.009390   \n",
       "1  0.0115             0.015649  -0.004149          0.008680   \n",
       "2  0.0130             0.016935  -0.003935          0.008585   \n",
       "3  0.0145             0.009029   0.005471          0.007910   \n",
       "4  0.0160             0.011465   0.004535          0.007884   \n",
       "\n",
       "   Predicted_Y_with_X2  Residuals_X2  Ranked_Residuals_X2  \n",
       "0             0.082683     -0.072683             0.085496  \n",
       "1             0.073062     -0.061562             0.082210  \n",
       "2             0.062813     -0.049813             0.077716  \n",
       "3             0.061111     -0.046611             0.076246  \n",
       "4             0.059399     -0.043399             0.071751  "
      ]
     },
     "execution_count": 58,
     "metadata": {},
     "output_type": "execute_result"
    }
   ],
   "source": [
    "data['Residuals_X2'] = data['Y'] - data['Predicted_Y_with_X2']\n",
    "data['Ranked_Residuals_X2'] = data['Residuals_X2'].sort_values(ascending=False).values\n",
    "data.head()"
   ]
  },
  {
   "cell_type": "code",
   "execution_count": 59,
   "id": "5982ed59",
   "metadata": {},
   "outputs": [
    {
     "data": {
      "image/png": "[encoded data removed]",
      "text/plain": [
       "<Figure size 432x288 with 1 Axes>"
      ]
     },
     "metadata": {
      "needs_background": "light"
     },
     "output_type": "display_data"
    }
   ],
   "source": [
    "fig = plt.figure()\n",
    "ax = fig.add_axes([1,1,1,2])\n",
    "plt.title('Residuals_X2')\n",
    "plt.xlabel('X1_Observations')\n",
    "plt.ylabel('Residuals_X2')\n",
    "ax.bar(range(len(data)),data['Ranked_Residuals_X2'])\n",
    "plt.show()"
   ]
  },
  {
   "cell_type": "markdown",
   "id": "a068167a",
   "metadata": {},
   "source": [
    "# Inference"
   ]
  },
  {
   "cell_type": "code",
   "execution_count": 82,
   "id": "f09b0c97",
   "metadata": {},
   "outputs": [
    {
     "data": {
      "text/plain": [
       "(0.0855, -0.07268)"
      ]
     },
     "execution_count": 82,
     "metadata": {},
     "output_type": "execute_result"
    }
   ],
   "source": [
    "round(data['Ranked_Residuals_X2'].max(),4), round(data['Ranked_Residuals_X2'].min(),5)"
   ]
  },
  {
   "cell_type": "markdown",
   "id": "c351b835",
   "metadata": {},
   "source": [
    "### The residuals of this model show a range of (0.0094, -0.00867)."
   ]
  },
  {
   "cell_type": "code",
   "execution_count": 81,
   "id": "2d0993ff",
   "metadata": {},
   "outputs": [
    {
     "name": "stdout",
     "output_type": "stream",
     "text": [
      "0.12006176128049507\n",
      "0.085\n",
      "0.1931625\n",
      "0.37844166812660285\n"
     ]
    }
   ],
   "source": [
    "SSR = (np.square(data['Y']-data['Predicted_Y_with_X2'])).sum()\n",
    "print(SSR)\n",
    "Y_mean = data['Y'].mean()\n",
    "print(Y_mean)\n",
    "SST = (np.square(data['Y']-Y_mean)).sum()\n",
    "print(SST)\n",
    "R_Square = 1 - (SSR/SST)\n",
    "print(R_Square)"
   ]
  },
  {
   "cell_type": "code",
   "execution_count": null,
   "id": "297be128",
   "metadata": {},
   "outputs": [],
   "source": []
  },
  {
   "cell_type": "markdown",
   "id": "639146cc",
   "metadata": {},
   "source": [
    "# Inference from R^2\n",
    "\n",
    "R_Square value is .37 for the model with P(cancer) and Access to health care. That is, 37% of the variability observed in the probability of cancer is explained by the model."
   ]
  },
  {
   "cell_type": "markdown",
   "id": "ba2cf79f",
   "metadata": {},
   "source": [
    "# Inference from models\n",
    "\n",
    "### Model 1 ----  P(Cancer) with Avg years of vaping\n",
    "Here the variable avg years of vaping is clearly affecting the probability of getting cancer, with high R_square value. \n",
    "### Model 2 ---- P(Cancer) with Access to health care\n",
    "Here the variable access to health care is not that much affecting the probability of getting cancer, from the model we can see that the R_square value is very low. "
   ]
  },
  {
   "cell_type": "code",
   "execution_count": null,
   "id": "daa05b9b",
   "metadata": {},
   "outputs": [],
   "source": []
  },
  {
   "cell_type": "markdown",
   "id": "6721fea9",
   "metadata": {},
   "source": [
    "# Multiple Linear Regression\n",
    "\n",
    "Here we are discusing about the possibility of predicting the P(cancer) when the two independent variables come together."
   ]
  },
  {
   "cell_type": "code",
   "execution_count": 40,
   "id": "1b176348",
   "metadata": {},
   "outputs": [],
   "source": [
    "\n",
    "import numpy as np\n",
    "from sklearn.linear_model import LinearRegression"
   ]
  },
  {
   "cell_type": "code",
   "execution_count": 56,
   "id": "e701fa05",
   "metadata": {},
   "outputs": [
    {
     "name": "stdout",
     "output_type": "stream",
     "text": [
      "                            OLS Regression Results                            \n",
      "==============================================================================\n",
      "Dep. Variable:                      Y   R-squared:                       0.992\n",
      "Model:                            OLS   Adj. R-squared:                  0.992\n",
      "Method:                 Least Squares   F-statistic:                     6068.\n",
      "Date:                Fri, 17 Jun 2022   Prob (F-statistic):          1.90e-103\n",
      "Time:                        13:35:31   Log-Likelihood:                 416.55\n",
      "No. Observations:                 101   AIC:                            -827.1\n",
      "Df Residuals:                      98   BIC:                            -819.2\n",
      "Df Model:                           2                                         \n",
      "Covariance Type:            nonrobust                                         \n",
      "==============================================================================\n",
      "                 coef    std err          t      P>|t|      [0.025      0.975]\n",
      "------------------------------------------------------------------------------\n",
      "Intercept     -0.0034      0.004     -0.875      0.384      -0.011       0.004\n",
      "X1             0.0098      0.000     86.637      0.000       0.010       0.010\n",
      "X2             0.0005      0.000      1.577      0.118      -0.000       0.001\n",
      "==============================================================================\n",
      "Omnibus:                        1.490   Durbin-Watson:                   1.837\n",
      "Prob(Omnibus):                  0.475   Jarque-Bera (JB):                1.552\n",
      "Skew:                           0.268   Prob(JB):                        0.460\n",
      "Kurtosis:                       2.714   Cond. No.                         132.\n",
      "==============================================================================\n",
      "\n",
      "Notes:\n",
      "[1] Standard Errors assume that the covariance matrix of the errors is correctly specified.\n"
     ]
    }
   ],
   "source": [
    "import pandas as pd\n",
    "import statsmodels.formula.api as smf\n",
    "mod = smf.ols('Y ~ X1+X2', data=data)\n",
    "res = mod.fit()\n",
    "print(res.summary())"
   ]
  },
  {
   "cell_type": "markdown",
   "id": "f19cae4f",
   "metadata": {},
   "source": [
    "# Inference for Multiple linear regression\n",
    "\n",
    "\n",
    "Here the R square value is 99.2% , and the from the table we can see that the variable access to the health care is not significant in this model. But the average years of voping is signifcant. "
   ]
  },
  {
   "cell_type": "markdown",
   "id": "880420cb",
   "metadata": {},
   "source": [
    "# Sensitivity Analysis"
   ]
  },
  {
   "cell_type": "code",
   "execution_count": 63,
   "id": "d9f550ea",
   "metadata": {},
   "outputs": [],
   "source": [
    "def linear_regression(data):\n",
    "    X = data['X'].sum()\n",
    "    Y = data['Y'].sum()\n",
    "    X_square = ((data['X'])*(data['X'])).sum()\n",
    "    Y_square = ((data['Y'])*(data['Y'])).sum()\n",
    "    XY = ((data['X'])*(data['Y'])).sum()\n",
    "    n = len(data['X'])\n",
    "    m = ((n*XY) - (X*Y)) /((n*X_square) -(X*X))\n",
    "    b = (Y - m*X)/n\n",
    "    data['Predicted_Y_with_X'] = data['X']*m + b\n",
    "    SSR = (np.square(data['Y']-data['Predicted_Y_with_X'])).sum()\n",
    "    #print(SSR)\n",
    "    Y_mean = data['Y'].mean()\n",
    "    #print(Y_mean)\n",
    "    SST = (np.square(data['Y']-Y_mean)).sum()\n",
    "    #print(SST)\n",
    "    R_Square = 1 - (SSR/SST)\n",
    "    #print(R_Square)\n",
    "    return m,b,R_Square"
   ]
  },
  {
   "cell_type": "code",
   "execution_count": 14,
   "id": "d55b302b",
   "metadata": {},
   "outputs": [],
   "source": [
    "df = data"
   ]
  },
  {
   "cell_type": "code",
   "execution_count": 62,
   "id": "52246362",
   "metadata": {},
   "outputs": [
    {
     "data": {
      "text/html": [
       "<div>\n",
       "<style scoped>\n",
       "    .dataframe tbody tr th:only-of-type {\n",
       "        vertical-align: middle;\n",
       "    }\n",
       "\n",
       "    .dataframe tbody tr th {\n",
       "        vertical-align: top;\n",
       "    }\n",
       "\n",
       "    .dataframe thead th {\n",
       "        text-align: right;\n",
       "    }\n",
       "</style>\n",
       "<table border=\"1\" class=\"dataframe\">\n",
       "  <thead>\n",
       "    <tr style=\"text-align: right;\">\n",
       "      <th></th>\n",
       "      <th>P(cancer)</th>\n",
       "      <th>avg years of vaping</th>\n",
       "      <th>access to health care</th>\n",
       "    </tr>\n",
       "  </thead>\n",
       "  <tbody>\n",
       "    <tr>\n",
       "      <th>23</th>\n",
       "      <td>0.0445</td>\n",
       "      <td>4.099452</td>\n",
       "      <td>12.321640</td>\n",
       "    </tr>\n",
       "    <tr>\n",
       "      <th>51</th>\n",
       "      <td>0.0865</td>\n",
       "      <td>9.021270</td>\n",
       "      <td>8.931004</td>\n",
       "    </tr>\n",
       "    <tr>\n",
       "      <th>35</th>\n",
       "      <td>0.0625</td>\n",
       "      <td>6.184133</td>\n",
       "      <td>11.747550</td>\n",
       "    </tr>\n",
       "    <tr>\n",
       "      <th>10</th>\n",
       "      <td>0.0250</td>\n",
       "      <td>2.224420</td>\n",
       "      <td>12.595890</td>\n",
       "    </tr>\n",
       "    <tr>\n",
       "      <th>2</th>\n",
       "      <td>0.0130</td>\n",
       "      <td>1.477897</td>\n",
       "      <td>11.437790</td>\n",
       "    </tr>\n",
       "  </tbody>\n",
       "</table>\n",
       "</div>"
      ],
      "text/plain": [
       "    P(cancer)  avg years of vaping  access to health care\n",
       "23     0.0445             4.099452              12.321640\n",
       "51     0.0865             9.021270               8.931004\n",
       "35     0.0625             6.184133              11.747550\n",
       "10     0.0250             2.224420              12.595890\n",
       "2      0.0130             1.477897              11.437790"
      ]
     },
     "execution_count": 62,
     "metadata": {},
     "output_type": "execute_result"
    }
   ],
   "source": [
    "df.head()"
   ]
  },
  {
   "cell_type": "code",
   "execution_count": 64,
   "id": "965dcfbb",
   "metadata": {},
   "outputs": [],
   "source": [
    "df.rename(columns = {'P(cancer)':'Y', 'avg years of vaping':'X'}, inplace = True)"
   ]
  },
  {
   "cell_type": "code",
   "execution_count": 65,
   "id": "05a569b8",
   "metadata": {},
   "outputs": [],
   "source": [
    "shuffled = df.sample(frac=1)\n",
    "result = np.array_split(shuffled, 5)"
   ]
  },
  {
   "cell_type": "code",
   "execution_count": 66,
   "id": "bf552a74",
   "metadata": {},
   "outputs": [],
   "source": [
    "arraysList = []\n",
    "for i in result:\n",
    "    arraysList.append(i) "
   ]
  },
  {
   "cell_type": "code",
   "execution_count": 67,
   "id": "b1b000ae",
   "metadata": {},
   "outputs": [],
   "source": [
    "data1 = arraysList[1]\n",
    "data2 = arraysList[2]\n",
    "data3 = arraysList[3]\n",
    "data4 = arraysList[4]\n",
    "data5 = arraysList[0]"
   ]
  },
  {
   "cell_type": "code",
   "execution_count": 68,
   "id": "18906a56",
   "metadata": {},
   "outputs": [
    {
     "data": {
      "text/html": [
       "<div>\n",
       "<style scoped>\n",
       "    .dataframe tbody tr th:only-of-type {\n",
       "        vertical-align: middle;\n",
       "    }\n",
       "\n",
       "    .dataframe tbody tr th {\n",
       "        vertical-align: top;\n",
       "    }\n",
       "\n",
       "    .dataframe thead th {\n",
       "        text-align: right;\n",
       "    }\n",
       "</style>\n",
       "<table border=\"1\" class=\"dataframe\">\n",
       "  <thead>\n",
       "    <tr style=\"text-align: right;\">\n",
       "      <th></th>\n",
       "      <th>Y</th>\n",
       "      <th>X</th>\n",
       "      <th>access to health care</th>\n",
       "    </tr>\n",
       "  </thead>\n",
       "  <tbody>\n",
       "    <tr>\n",
       "      <th>51</th>\n",
       "      <td>0.0865</td>\n",
       "      <td>9.021270</td>\n",
       "      <td>8.931004</td>\n",
       "    </tr>\n",
       "    <tr>\n",
       "      <th>4</th>\n",
       "      <td>0.0160</td>\n",
       "      <td>0.915358</td>\n",
       "      <td>11.643950</td>\n",
       "    </tr>\n",
       "    <tr>\n",
       "      <th>16</th>\n",
       "      <td>0.0340</td>\n",
       "      <td>3.570197</td>\n",
       "      <td>12.204410</td>\n",
       "    </tr>\n",
       "    <tr>\n",
       "      <th>23</th>\n",
       "      <td>0.0445</td>\n",
       "      <td>4.099452</td>\n",
       "      <td>12.321640</td>\n",
       "    </tr>\n",
       "  </tbody>\n",
       "</table>\n",
       "</div>"
      ],
      "text/plain": [
       "         Y         X  access to health care\n",
       "51  0.0865  9.021270               8.931004\n",
       "4   0.0160  0.915358              11.643950\n",
       "16  0.0340  3.570197              12.204410\n",
       "23  0.0445  4.099452              12.321640"
      ]
     },
     "execution_count": 68,
     "metadata": {},
     "output_type": "execute_result"
    }
   ],
   "source": [
    "data1.head()"
   ]
  },
  {
   "cell_type": "code",
   "execution_count": 114,
   "id": "38d410ff",
   "metadata": {},
   "outputs": [],
   "source": [
    "Final_table = {'m': [0.008813699422888496,0.010499213064002082,0.009906783044794362,0.010127848053580581,0.0084867028858425],\n",
    "        'b': [0.0064558916414712494, -0.006866091737179905, 0.00035932984011147195, -0.0009451420110895142,0.00829530733761976],\n",
    "         'R_Square' :[0.9919868716173572,0.9962786617766924,0.9962870074073665,0.997515059197745,0.9925088163134763]     \n",
    "              }"
   ]
  },
  {
   "cell_type": "code",
   "execution_count": 72,
   "id": "fd2f8897",
   "metadata": {},
   "outputs": [
    {
     "data": {
      "text/plain": [
       "((0.008813699422888496, 0.0064558916414712494, 0.9919868716173572),\n",
       " (0.010499213064002082, -0.006866091737179905, 0.9962786617766924),\n",
       " (0.009906783044794362, 0.00035932984011147195, 0.9962870074073665),\n",
       " (0.010127848053580581, -0.0009451420110895142, 0.997515059197745),\n",
       " (0.0084867028858425, 0.00829530733761976, 0.9925088163134763))"
      ]
     },
     "execution_count": 72,
     "metadata": {},
     "output_type": "execute_result"
    }
   ],
   "source": [
    "linear_regression(data1),linear_regression(data2),linear_regression(data3),linear_regression(data4),linear_regression(data5)"
   ]
  },
  {
   "cell_type": "code",
   "execution_count": 75,
   "id": "1d2a07ba",
   "metadata": {},
   "outputs": [
    {
     "data": {
      "text/html": [
       "<div>\n",
       "<style scoped>\n",
       "    .dataframe tbody tr th:only-of-type {\n",
       "        vertical-align: middle;\n",
       "    }\n",
       "\n",
       "    .dataframe tbody tr th {\n",
       "        vertical-align: top;\n",
       "    }\n",
       "\n",
       "    .dataframe thead th {\n",
       "        text-align: right;\n",
       "    }\n",
       "</style>\n",
       "<table border=\"1\" class=\"dataframe\">\n",
       "  <thead>\n",
       "    <tr style=\"text-align: right;\">\n",
       "      <th></th>\n",
       "      <th>m</th>\n",
       "      <th>b</th>\n",
       "      <th>R_Square</th>\n",
       "    </tr>\n",
       "  </thead>\n",
       "  <tbody>\n",
       "    <tr>\n",
       "      <th>0</th>\n",
       "      <td>0.008814</td>\n",
       "      <td>0.006456</td>\n",
       "      <td>0.991987</td>\n",
       "    </tr>\n",
       "    <tr>\n",
       "      <th>1</th>\n",
       "      <td>0.010499</td>\n",
       "      <td>-0.006866</td>\n",
       "      <td>0.996279</td>\n",
       "    </tr>\n",
       "    <tr>\n",
       "      <th>2</th>\n",
       "      <td>0.009907</td>\n",
       "      <td>0.000359</td>\n",
       "      <td>0.996287</td>\n",
       "    </tr>\n",
       "    <tr>\n",
       "      <th>3</th>\n",
       "      <td>0.010128</td>\n",
       "      <td>-0.000945</td>\n",
       "      <td>0.997515</td>\n",
       "    </tr>\n",
       "    <tr>\n",
       "      <th>4</th>\n",
       "      <td>0.008487</td>\n",
       "      <td>0.008295</td>\n",
       "      <td>0.992509</td>\n",
       "    </tr>\n",
       "  </tbody>\n",
       "</table>\n",
       "</div>"
      ],
      "text/plain": [
       "          m         b  R_Square\n",
       "0  0.008814  0.006456  0.991987\n",
       "1  0.010499 -0.006866  0.996279\n",
       "2  0.009907  0.000359  0.996287\n",
       "3  0.010128 -0.000945  0.997515\n",
       "4  0.008487  0.008295  0.992509"
      ]
     },
     "execution_count": 75,
     "metadata": {},
     "output_type": "execute_result"
    }
   ],
   "source": [
    "Final_table = pd.DataFrame(Final_table)\n",
    "Final_table"
   ]
  },
  {
   "cell_type": "code",
   "execution_count": 98,
   "id": "0f97df59",
   "metadata": {},
   "outputs": [
    {
     "data": {
      "image/png": "[encoded data removed]",
      "text/plain": [
       "<Figure size 432x288 with 1 Axes>"
      ]
     },
     "metadata": {
      "needs_background": "light"
     },
     "output_type": "display_data"
    }
   ],
   "source": [
    "plt.scatter(Final_table['m'], [.001,.004,.009,.0016,.20], color = 'c')\n",
    "plt.scatter(Final_table['b'], [.001,.004,.009,.0016,.20], color = 'r')\n",
    "plt.xlim(xmin=-.01)\n",
    "plt.legend(['m','b'], loc='best')\n",
    "plt.show()"
   ]
  },
  {
   "cell_type": "code",
   "execution_count": 115,
   "id": "9c56b28d",
   "metadata": {},
   "outputs": [
    {
     "data": {
      "text/plain": [
       "[<matplotlib.lines.Line2D at 0x2d448d445b0>]"
      ]
     },
     "execution_count": 115,
     "metadata": {},
     "output_type": "execute_result"
    },
    {
     "data": {
      "image/png": "[encoded data removed]",
      "text/plain": [
       "<Figure size 432x288 with 1 Axes>"
      ]
     },
     "metadata": {
      "needs_background": "light"
     },
     "output_type": "display_data"
    }
   ],
   "source": [
    "plt.plot(Final_table['R_Square'])"
   ]
  },
  {
   "cell_type": "code",
   "execution_count": null,
   "id": "abc850d5",
   "metadata": {},
   "outputs": [],
   "source": []
  },
  {
   "cell_type": "markdown",
   "id": "8fa55eb4",
   "metadata": {},
   "source": [
    "# Inference\n",
    "\n",
    "After subsetting the datasets into 5 random sample set, we have calculated the R_square for each sets and found that the R_sqaure value is not much different each other, however, the b value varies from negative to positive at some time. So this datset has robust model."
   ]
  },
  {
   "cell_type": "code",
   "execution_count": null,
   "id": "39bac4c9",
   "metadata": {},
   "outputs": [],
   "source": []
  },
  {
   "cell_type": "code",
   "execution_count": null,
   "id": "5fc2b7bc",
   "metadata": {},
   "outputs": [],
   "source": []
  },
  {
   "cell_type": "markdown",
   "id": "30f1d1c3",
   "metadata": {},
   "source": [
    "# For second variable"
   ]
  },
  {
   "cell_type": "code",
   "execution_count": 100,
   "id": "f4c535bb",
   "metadata": {},
   "outputs": [],
   "source": [
    "df = data\n",
    "df.rename(columns = {'P(cancer)':'Y', 'access to health care':'X'}, inplace = True)"
   ]
  },
  {
   "cell_type": "code",
   "execution_count": 101,
   "id": "52b56429",
   "metadata": {},
   "outputs": [],
   "source": [
    "shuffled = df.sample(frac=1)\n",
    "result = np.array_split(shuffled, 5)"
   ]
  },
  {
   "cell_type": "code",
   "execution_count": 102,
   "id": "fbbea787",
   "metadata": {},
   "outputs": [],
   "source": [
    "arraysList = []\n",
    "for i in result:\n",
    "    arraysList.append(i) "
   ]
  },
  {
   "cell_type": "code",
   "execution_count": 103,
   "id": "5457c79f",
   "metadata": {},
   "outputs": [],
   "source": [
    "data1 = arraysList[1]\n",
    "data2 = arraysList[2]\n",
    "data3 = arraysList[3]\n",
    "data4 = arraysList[4]\n",
    "data5 = arraysList[0]"
   ]
  },
  {
   "cell_type": "code",
   "execution_count": 104,
   "id": "c378d5b7",
   "metadata": {},
   "outputs": [
    {
     "data": {
      "text/html": [
       "<div>\n",
       "<style scoped>\n",
       "    .dataframe tbody tr th:only-of-type {\n",
       "        vertical-align: middle;\n",
       "    }\n",
       "\n",
       "    .dataframe tbody tr th {\n",
       "        vertical-align: top;\n",
       "    }\n",
       "\n",
       "    .dataframe thead th {\n",
       "        text-align: right;\n",
       "    }\n",
       "</style>\n",
       "<table border=\"1\" class=\"dataframe\">\n",
       "  <thead>\n",
       "    <tr style=\"text-align: right;\">\n",
       "      <th></th>\n",
       "      <th>Y</th>\n",
       "      <th>avg years of vaping</th>\n",
       "      <th>X</th>\n",
       "    </tr>\n",
       "  </thead>\n",
       "  <tbody>\n",
       "    <tr>\n",
       "      <th>82</th>\n",
       "      <td>0.1330</td>\n",
       "      <td>13.23949</td>\n",
       "      <td>10.228090</td>\n",
       "    </tr>\n",
       "    <tr>\n",
       "      <th>69</th>\n",
       "      <td>0.1135</td>\n",
       "      <td>11.83526</td>\n",
       "      <td>7.232464</td>\n",
       "    </tr>\n",
       "    <tr>\n",
       "      <th>55</th>\n",
       "      <td>0.0925</td>\n",
       "      <td>9.31363</td>\n",
       "      <td>8.212241</td>\n",
       "    </tr>\n",
       "    <tr>\n",
       "      <th>20</th>\n",
       "      <td>0.0400</td>\n",
       "      <td>4.35524</td>\n",
       "      <td>10.903340</td>\n",
       "    </tr>\n",
       "    <tr>\n",
       "      <th>91</th>\n",
       "      <td>0.1465</td>\n",
       "      <td>14.51492</td>\n",
       "      <td>10.454260</td>\n",
       "    </tr>\n",
       "  </tbody>\n",
       "</table>\n",
       "</div>"
      ],
      "text/plain": [
       "         Y  avg years of vaping          X\n",
       "82  0.1330             13.23949  10.228090\n",
       "69  0.1135             11.83526   7.232464\n",
       "55  0.0925              9.31363   8.212241\n",
       "20  0.0400              4.35524  10.903340\n",
       "91  0.1465             14.51492  10.454260"
      ]
     },
     "execution_count": 104,
     "metadata": {},
     "output_type": "execute_result"
    }
   ],
   "source": [
    "data1.head()"
   ]
  },
  {
   "cell_type": "code",
   "execution_count": 105,
   "id": "e48ef548",
   "metadata": {},
   "outputs": [
    {
     "data": {
      "text/plain": [
       "((-0.008868085218772855, 0.1844274619571002, 0.08723514131368049),\n",
       " (-0.013588461979722962, 0.21121555630591207, 0.5739331956141326),\n",
       " (-0.015035258436360053, 0.23293661877966523, 0.3113661587163856),\n",
       " (-0.024414700705385543, 0.33490743835725273, 0.5672552380427378),\n",
       " (-0.018806204452821534, 0.2813575707802073, 0.41779701587206475))"
      ]
     },
     "execution_count": 105,
     "metadata": {},
     "output_type": "execute_result"
    }
   ],
   "source": [
    "linear_regression(data1),linear_regression(data2),linear_regression(data3),linear_regression(data4),linear_regression(data5)"
   ]
  },
  {
   "cell_type": "code",
   "execution_count": 112,
   "id": "5975257b",
   "metadata": {},
   "outputs": [],
   "source": [
    "Final_table = {'m': [-0.008868085218772855,-0.013588461979722962,-0.015035258436360053,-0.024414700705385543,-0.018806204452821534],\n",
    "        'b': [0.1844274619571002, 0.21121555630591207, 0.23293661877966523, 0.33490743835725273,0.2813575707802073],\n",
    "         'R_Square' :[0.08723514131368049,0.5739331956141326,0.3113661587163856,0.5672552380427378,0.41779701587206475]     \n",
    "              }"
   ]
  },
  {
   "cell_type": "code",
   "execution_count": 107,
   "id": "41c41cff",
   "metadata": {},
   "outputs": [
    {
     "data": {
      "text/html": [
       "<div>\n",
       "<style scoped>\n",
       "    .dataframe tbody tr th:only-of-type {\n",
       "        vertical-align: middle;\n",
       "    }\n",
       "\n",
       "    .dataframe tbody tr th {\n",
       "        vertical-align: top;\n",
       "    }\n",
       "\n",
       "    .dataframe thead th {\n",
       "        text-align: right;\n",
       "    }\n",
       "</style>\n",
       "<table border=\"1\" class=\"dataframe\">\n",
       "  <thead>\n",
       "    <tr style=\"text-align: right;\">\n",
       "      <th></th>\n",
       "      <th>m</th>\n",
       "      <th>b</th>\n",
       "      <th>R_Square</th>\n",
       "    </tr>\n",
       "  </thead>\n",
       "  <tbody>\n",
       "    <tr>\n",
       "      <th>0</th>\n",
       "      <td>-0.008868</td>\n",
       "      <td>0.184427</td>\n",
       "      <td>0.087235</td>\n",
       "    </tr>\n",
       "    <tr>\n",
       "      <th>1</th>\n",
       "      <td>-0.013588</td>\n",
       "      <td>0.211216</td>\n",
       "      <td>0.573933</td>\n",
       "    </tr>\n",
       "    <tr>\n",
       "      <th>2</th>\n",
       "      <td>-0.015035</td>\n",
       "      <td>0.232937</td>\n",
       "      <td>0.311366</td>\n",
       "    </tr>\n",
       "    <tr>\n",
       "      <th>3</th>\n",
       "      <td>-0.024415</td>\n",
       "      <td>0.334907</td>\n",
       "      <td>0.567255</td>\n",
       "    </tr>\n",
       "    <tr>\n",
       "      <th>4</th>\n",
       "      <td>-0.018806</td>\n",
       "      <td>0.281358</td>\n",
       "      <td>0.417797</td>\n",
       "    </tr>\n",
       "  </tbody>\n",
       "</table>\n",
       "</div>"
      ],
      "text/plain": [
       "          m         b  R_Square\n",
       "0 -0.008868  0.184427  0.087235\n",
       "1 -0.013588  0.211216  0.573933\n",
       "2 -0.015035  0.232937  0.311366\n",
       "3 -0.024415  0.334907  0.567255\n",
       "4 -0.018806  0.281358  0.417797"
      ]
     },
     "execution_count": 107,
     "metadata": {},
     "output_type": "execute_result"
    }
   ],
   "source": [
    "Final_table = pd.DataFrame(Final_table)\n",
    "Final_table"
   ]
  },
  {
   "cell_type": "code",
   "execution_count": 110,
   "id": "c4f225be",
   "metadata": {},
   "outputs": [
    {
     "data": {
      "image/png": "[encoded data removed]",
      "text/plain": [
       "<Figure size 432x288 with 1 Axes>"
      ]
     },
     "metadata": {
      "needs_background": "light"
     },
     "output_type": "display_data"
    }
   ],
   "source": [
    "plt.scatter(Final_table['m'], [.001,.004,.009,.0016,.20], color = 'c')\n",
    "plt.scatter(Final_table['b'], [.1,.4,.9,.16,.20], color = 'r')\n",
    "plt.xlim(xmin=-.1)\n",
    "plt.legend(['m','b'], loc='best')\n",
    "plt.show()"
   ]
  },
  {
   "cell_type": "code",
   "execution_count": 113,
   "id": "e931410a",
   "metadata": {},
   "outputs": [
    {
     "data": {
      "text/plain": [
       "[<matplotlib.lines.Line2D at 0x2d448cd8cd0>]"
      ]
     },
     "execution_count": 113,
     "metadata": {},
     "output_type": "execute_result"
    },
    {
     "data": {
      "image/png": "[encoded data removed]",
      "text/plain": [
       "<Figure size 432x288 with 1 Axes>"
      ]
     },
     "metadata": {
      "needs_background": "light"
     },
     "output_type": "display_data"
    }
   ],
   "source": [
    "plt.plot(Final_table['R_Square'])"
   ]
  },
  {
   "cell_type": "markdown",
   "id": "7afcf161",
   "metadata": {},
   "source": [
    "# Inference\n",
    "\n",
    "\n",
    "After subsetting the datasets into 5 random sample sets, we have calculated the R_square for each sets and found that the R_sqaure value is different each other,  So this dataset has not robust model."
   ]
  },
  {
   "cell_type": "code",
   "execution_count": null,
   "id": "d36a2c7d",
   "metadata": {},
   "outputs": [],
   "source": []
  },
  {
   "cell_type": "markdown",
   "id": "50ecf34d",
   "metadata": {},
   "source": [
    "# Inferences and Interpretations\n",
    "\n",
    "\n",
    "\n",
    "\n",
    "\n",
    "\n",
    "\n",
    "\n",
    "\n",
    "\n",
    "      \n",
    "            \n",
    "# Conclusion\n",
    "\n",
    "So, in conclusion, we can say that the avg years of vaping is evidently affecting the probability of getting cancer much more than that of access to health care. Therefore, the company's claim seems to be not supported by this data. \n",
    "\n"
   ]
  },
  {
   "cell_type": "code",
   "execution_count": null,
   "id": "b69b86e6",
   "metadata": {},
   "outputs": [],
   "source": []
  },
  {
   "cell_type": "code",
   "execution_count": null,
   "id": "cacc9f51",
   "metadata": {},
   "outputs": [],
   "source": []
  },
  {
   "cell_type": "code",
   "execution_count": 11,
   "id": "05694f51",
   "metadata": {},
   "outputs": [],
   "source": []
  },
  {
   "cell_type": "code",
   "execution_count": null,
   "id": "2aa32bf3",
   "metadata": {},
   "outputs": [],
   "source": []
  },
  {
   "cell_type": "code",
   "execution_count": null,
   "id": "7bd9441a",
   "metadata": {},
   "outputs": [],
   "source": []
  },
  {
   "cell_type": "code",
   "execution_count": null,
   "id": "a7e226f0",
   "metadata": {},
   "outputs": [],
   "source": []
  },
  {
   "cell_type": "code",
   "execution_count": null,
   "id": "227903d2",
   "metadata": {},
   "outputs": [],
   "source": []
  },
  {
   "cell_type": "code",
   "execution_count": null,
   "id": "04615bd1",
   "metadata": {},
   "outputs": [],
   "source": []
  },
  {
   "cell_type": "code",
   "execution_count": null,
   "id": "afe29065",
   "metadata": {},
   "outputs": [],
   "source": []
  }
 ],
 "metadata": {
  "kernelspec": {
   "display_name": "Python 3 (ipykernel)",
   "language": "python",
   "name": "python3"
  },
  "language_info": {
   "codemirror_mode": {
    "name": "ipython",
    "version": 3
   },
   "file_extension": ".py",
   "mimetype": "text/x-python",
   "name": "python",
   "nbconvert_exporter": "python",
   "pygments_lexer": "ipython3",
   "version": "3.10.4"
  }
 },
 "nbformat": 4,
 "nbformat_minor": 5
}
