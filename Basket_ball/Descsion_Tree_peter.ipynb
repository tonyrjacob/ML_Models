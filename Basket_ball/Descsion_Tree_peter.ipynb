{
 "cells": [
  {
   "cell_type": "markdown",
   "id": "8e1be904",
   "metadata": {},
   "source": [
    "\n",
    "<p class=\"text-success\"><b>2.</b> - Visit the AI Exploratorium at cs.ualberta.ca/~aixplore. Click the Decision Tree link. Read the narrative on basketball game statistics. Examine the data, and then build a decision tree. Report your impressions of the accuracy of this decision tree. Also, explore the effects of different algorithms.\n",
    "</p>"
   ]
  },
  {
   "cell_type": "markdown",
   "id": "5bcd4409",
   "metadata": {},
   "source": [
    "1. Importing libraries"
   ]
  },
  {
   "cell_type": "code",
   "execution_count": 1,
   "id": "6ffda777",
   "metadata": {},
   "outputs": [],
   "source": [
    "import pandas as pd\n",
    "import numpy as np\n",
    "import matplotlib.pyplot as plt\n",
    "import seaborn as sns\n",
    "from sklearn import tree\n",
    "from sklearn.model_selection import train_test_split\n",
    "from sklearn.metrics import plot_confusion_matrix\n",
    "import warnings\n",
    "warnings.filterwarnings('ignore')\n",
    "from sklearn.model_selection import train_test_split"
   ]
  },
  {
   "cell_type": "markdown",
   "id": "4585513c",
   "metadata": {},
   "source": [
    "2. Loading dataframe"
   ]
  },
  {
   "cell_type": "code",
   "execution_count": 2,
   "id": "65434ed4",
   "metadata": {},
   "outputs": [],
   "source": [
    "df=pd.read_csv(\"Basketball.csv\")"
   ]
  },
  {
   "cell_type": "markdown",
   "id": "55614463",
   "metadata": {},
   "source": [
    "3. The Data"
   ]
  },
  {
   "cell_type": "code",
   "execution_count": 3,
   "id": "5523d071",
   "metadata": {},
   "outputs": [
    {
     "data": {
      "text/html": [
       "<div>\n",
       "<style scoped>\n",
       "    .dataframe tbody tr th:only-of-type {\n",
       "        vertical-align: middle;\n",
       "    }\n",
       "\n",
       "    .dataframe tbody tr th {\n",
       "        vertical-align: top;\n",
       "    }\n",
       "\n",
       "    .dataframe thead th {\n",
       "        text-align: right;\n",
       "    }\n",
       "</style>\n",
       "<table border=\"1\" class=\"dataframe\">\n",
       "  <thead>\n",
       "    <tr style=\"text-align: right;\">\n",
       "      <th></th>\n",
       "      <th>Won</th>\n",
       "      <th>Home</th>\n",
       "      <th>7pm</th>\n",
       "      <th>Yes</th>\n",
       "      <th>Center</th>\n",
       "      <th>Forward</th>\n",
       "      <th>Tall</th>\n",
       "      <th>Unnamed: 7</th>\n",
       "    </tr>\n",
       "  </thead>\n",
       "  <tbody>\n",
       "    <tr>\n",
       "      <th>0</th>\n",
       "      <td>Won</td>\n",
       "      <td>Home</td>\n",
       "      <td>7pm</td>\n",
       "      <td>Yes</td>\n",
       "      <td>Forward</td>\n",
       "      <td>Center</td>\n",
       "      <td>Short</td>\n",
       "      <td></td>\n",
       "    </tr>\n",
       "    <tr>\n",
       "      <th>1</th>\n",
       "      <td>Won</td>\n",
       "      <td>Away</td>\n",
       "      <td>7pm</td>\n",
       "      <td>Yes</td>\n",
       "      <td>Forward</td>\n",
       "      <td>Forward</td>\n",
       "      <td>Tall</td>\n",
       "      <td>NaN</td>\n",
       "    </tr>\n",
       "    <tr>\n",
       "      <th>2</th>\n",
       "      <td>Lost</td>\n",
       "      <td>Home</td>\n",
       "      <td>5pm</td>\n",
       "      <td>No</td>\n",
       "      <td>Forward</td>\n",
       "      <td>Center</td>\n",
       "      <td>Tall</td>\n",
       "      <td>NaN</td>\n",
       "    </tr>\n",
       "    <tr>\n",
       "      <th>3</th>\n",
       "      <td>Lost</td>\n",
       "      <td>Away</td>\n",
       "      <td>9pm</td>\n",
       "      <td>Yes</td>\n",
       "      <td>Forward</td>\n",
       "      <td>Forward</td>\n",
       "      <td>Short</td>\n",
       "      <td></td>\n",
       "    </tr>\n",
       "    <tr>\n",
       "      <th>4</th>\n",
       "      <td>Won</td>\n",
       "      <td>Away</td>\n",
       "      <td>7pm</td>\n",
       "      <td>No</td>\n",
       "      <td>Center</td>\n",
       "      <td>Forward</td>\n",
       "      <td>Tall</td>\n",
       "      <td>NaN</td>\n",
       "    </tr>\n",
       "    <tr>\n",
       "      <th>5</th>\n",
       "      <td>Lost</td>\n",
       "      <td>Home</td>\n",
       "      <td>7pm</td>\n",
       "      <td>No</td>\n",
       "      <td>Forward</td>\n",
       "      <td>Center</td>\n",
       "      <td>Tall</td>\n",
       "      <td>NaN</td>\n",
       "    </tr>\n",
       "    <tr>\n",
       "      <th>6</th>\n",
       "      <td>Won</td>\n",
       "      <td>Home</td>\n",
       "      <td>7pm</td>\n",
       "      <td>Yes</td>\n",
       "      <td>Center</td>\n",
       "      <td>Center</td>\n",
       "      <td>Tall</td>\n",
       "      <td>NaN</td>\n",
       "    </tr>\n",
       "    <tr>\n",
       "      <th>7</th>\n",
       "      <td>Won</td>\n",
       "      <td>Away</td>\n",
       "      <td>7pm</td>\n",
       "      <td>Yes</td>\n",
       "      <td>Center</td>\n",
       "      <td>Center</td>\n",
       "      <td>Short</td>\n",
       "      <td></td>\n",
       "    </tr>\n",
       "    <tr>\n",
       "      <th>8</th>\n",
       "      <td>Lost</td>\n",
       "      <td>Home</td>\n",
       "      <td>9pm</td>\n",
       "      <td>No</td>\n",
       "      <td>Forward</td>\n",
       "      <td>Center</td>\n",
       "      <td>Short</td>\n",
       "      <td></td>\n",
       "    </tr>\n",
       "    <tr>\n",
       "      <th>9</th>\n",
       "      <td>Lost</td>\n",
       "      <td>Away</td>\n",
       "      <td>7pm</td>\n",
       "      <td>No</td>\n",
       "      <td>Forward</td>\n",
       "      <td>Forward</td>\n",
       "      <td>Short</td>\n",
       "      <td></td>\n",
       "    </tr>\n",
       "    <tr>\n",
       "      <th>10</th>\n",
       "      <td>Won</td>\n",
       "      <td>Away</td>\n",
       "      <td>5pm</td>\n",
       "      <td>No</td>\n",
       "      <td>Center</td>\n",
       "      <td>Forward</td>\n",
       "      <td>Tall</td>\n",
       "      <td>NaN</td>\n",
       "    </tr>\n",
       "    <tr>\n",
       "      <th>11</th>\n",
       "      <td>Lost</td>\n",
       "      <td>Home</td>\n",
       "      <td>7pm</td>\n",
       "      <td>No</td>\n",
       "      <td>Center</td>\n",
       "      <td>Center</td>\n",
       "      <td>Tall</td>\n",
       "      <td>NaN</td>\n",
       "    </tr>\n",
       "    <tr>\n",
       "      <th>12</th>\n",
       "      <td>Lost</td>\n",
       "      <td>Home</td>\n",
       "      <td>9pm</td>\n",
       "      <td>No</td>\n",
       "      <td>Forward</td>\n",
       "      <td>Forward</td>\n",
       "      <td>Short</td>\n",
       "      <td></td>\n",
       "    </tr>\n",
       "    <tr>\n",
       "      <th>13</th>\n",
       "      <td>Lost</td>\n",
       "      <td>Away</td>\n",
       "      <td>9pm</td>\n",
       "      <td>Yes</td>\n",
       "      <td>Center</td>\n",
       "      <td>Forward</td>\n",
       "      <td>Short</td>\n",
       "      <td></td>\n",
       "    </tr>\n",
       "    <tr>\n",
       "      <th>14</th>\n",
       "      <td>Won</td>\n",
       "      <td>Home</td>\n",
       "      <td>7pm</td>\n",
       "      <td>Yes</td>\n",
       "      <td>Center</td>\n",
       "      <td>Center</td>\n",
       "      <td>Short</td>\n",
       "      <td></td>\n",
       "    </tr>\n",
       "    <tr>\n",
       "      <th>15</th>\n",
       "      <td>Won</td>\n",
       "      <td>Home</td>\n",
       "      <td>7pm</td>\n",
       "      <td>Yes</td>\n",
       "      <td>Center</td>\n",
       "      <td>Forward</td>\n",
       "      <td>Short</td>\n",
       "      <td></td>\n",
       "    </tr>\n",
       "    <tr>\n",
       "      <th>16</th>\n",
       "      <td>Lost</td>\n",
       "      <td>Home</td>\n",
       "      <td>5pm</td>\n",
       "      <td>No</td>\n",
       "      <td>Forward</td>\n",
       "      <td>Center</td>\n",
       "      <td>Short</td>\n",
       "      <td></td>\n",
       "    </tr>\n",
       "    <tr>\n",
       "      <th>17</th>\n",
       "      <td>Won</td>\n",
       "      <td>Home</td>\n",
       "      <td>7pm</td>\n",
       "      <td>Yes</td>\n",
       "      <td>Center</td>\n",
       "      <td>Forward</td>\n",
       "      <td>Tall</td>\n",
       "      <td>NaN</td>\n",
       "    </tr>\n",
       "    <tr>\n",
       "      <th>18</th>\n",
       "      <td>Lost</td>\n",
       "      <td>Away</td>\n",
       "      <td>5pm</td>\n",
       "      <td>No</td>\n",
       "      <td>Center</td>\n",
       "      <td>Center</td>\n",
       "      <td>Tall</td>\n",
       "      <td>NaN</td>\n",
       "    </tr>\n",
       "  </tbody>\n",
       "</table>\n",
       "</div>"
      ],
      "text/plain": [
       "     Won  Home  7pm  Yes   Center  Forward   Tall Unnamed: 7\n",
       "0    Won  Home  7pm  Yes  Forward   Center  Short           \n",
       "1    Won  Away  7pm  Yes  Forward  Forward   Tall        NaN\n",
       "2   Lost  Home  5pm   No  Forward   Center   Tall        NaN\n",
       "3   Lost  Away  9pm  Yes  Forward  Forward  Short           \n",
       "4    Won  Away  7pm   No   Center  Forward   Tall        NaN\n",
       "5   Lost  Home  7pm   No  Forward   Center   Tall        NaN\n",
       "6    Won  Home  7pm  Yes   Center   Center   Tall        NaN\n",
       "7    Won  Away  7pm  Yes   Center   Center  Short           \n",
       "8   Lost  Home  9pm   No  Forward   Center  Short           \n",
       "9   Lost  Away  7pm   No  Forward  Forward  Short           \n",
       "10   Won  Away  5pm   No   Center  Forward   Tall        NaN\n",
       "11  Lost  Home  7pm   No   Center   Center   Tall        NaN\n",
       "12  Lost  Home  9pm   No  Forward  Forward  Short           \n",
       "13  Lost  Away  9pm  Yes   Center  Forward  Short           \n",
       "14   Won  Home  7pm  Yes   Center   Center  Short           \n",
       "15   Won  Home  7pm  Yes   Center  Forward  Short           \n",
       "16  Lost  Home  5pm   No  Forward   Center  Short           \n",
       "17   Won  Home  7pm  Yes   Center  Forward   Tall        NaN\n",
       "18  Lost  Away  5pm   No   Center   Center   Tall        NaN"
      ]
     },
     "execution_count": 3,
     "metadata": {},
     "output_type": "execute_result"
    }
   ],
   "source": [
    "df"
   ]
  },
  {
   "cell_type": "markdown",
   "id": "d3797b97",
   "metadata": {},
   "source": [
    "4. Droping trivail columns & setting column names"
   ]
  },
  {
   "cell_type": "code",
   "execution_count": 4,
   "id": "a30e9aac",
   "metadata": {},
   "outputs": [],
   "source": [
    "df.drop(\"Unnamed: 7\",axis=1,inplace=True)\n",
    "df.columns=[\"Outcome\",\"Where\",\"When\",\"Fred Starts\",\"JoeOffence\",\"JoeDefense\",\"OppCenter\"]"
   ]
  },
  {
   "cell_type": "code",
   "execution_count": 5,
   "id": "a4d374e3",
   "metadata": {},
   "outputs": [
    {
     "data": {
      "text/html": [
       "<div>\n",
       "<style scoped>\n",
       "    .dataframe tbody tr th:only-of-type {\n",
       "        vertical-align: middle;\n",
       "    }\n",
       "\n",
       "    .dataframe tbody tr th {\n",
       "        vertical-align: top;\n",
       "    }\n",
       "\n",
       "    .dataframe thead th {\n",
       "        text-align: right;\n",
       "    }\n",
       "</style>\n",
       "<table border=\"1\" class=\"dataframe\">\n",
       "  <thead>\n",
       "    <tr style=\"text-align: right;\">\n",
       "      <th></th>\n",
       "      <th>Outcome</th>\n",
       "      <th>Where</th>\n",
       "      <th>When</th>\n",
       "      <th>Fred Starts</th>\n",
       "      <th>JoeOffence</th>\n",
       "      <th>JoeDefense</th>\n",
       "      <th>OppCenter</th>\n",
       "    </tr>\n",
       "  </thead>\n",
       "  <tbody>\n",
       "    <tr>\n",
       "      <th>0</th>\n",
       "      <td>Won</td>\n",
       "      <td>Home</td>\n",
       "      <td>7pm</td>\n",
       "      <td>Yes</td>\n",
       "      <td>Forward</td>\n",
       "      <td>Center</td>\n",
       "      <td>Short</td>\n",
       "    </tr>\n",
       "    <tr>\n",
       "      <th>1</th>\n",
       "      <td>Won</td>\n",
       "      <td>Away</td>\n",
       "      <td>7pm</td>\n",
       "      <td>Yes</td>\n",
       "      <td>Forward</td>\n",
       "      <td>Forward</td>\n",
       "      <td>Tall</td>\n",
       "    </tr>\n",
       "    <tr>\n",
       "      <th>2</th>\n",
       "      <td>Lost</td>\n",
       "      <td>Home</td>\n",
       "      <td>5pm</td>\n",
       "      <td>No</td>\n",
       "      <td>Forward</td>\n",
       "      <td>Center</td>\n",
       "      <td>Tall</td>\n",
       "    </tr>\n",
       "    <tr>\n",
       "      <th>3</th>\n",
       "      <td>Lost</td>\n",
       "      <td>Away</td>\n",
       "      <td>9pm</td>\n",
       "      <td>Yes</td>\n",
       "      <td>Forward</td>\n",
       "      <td>Forward</td>\n",
       "      <td>Short</td>\n",
       "    </tr>\n",
       "    <tr>\n",
       "      <th>4</th>\n",
       "      <td>Won</td>\n",
       "      <td>Away</td>\n",
       "      <td>7pm</td>\n",
       "      <td>No</td>\n",
       "      <td>Center</td>\n",
       "      <td>Forward</td>\n",
       "      <td>Tall</td>\n",
       "    </tr>\n",
       "    <tr>\n",
       "      <th>5</th>\n",
       "      <td>Lost</td>\n",
       "      <td>Home</td>\n",
       "      <td>7pm</td>\n",
       "      <td>No</td>\n",
       "      <td>Forward</td>\n",
       "      <td>Center</td>\n",
       "      <td>Tall</td>\n",
       "    </tr>\n",
       "    <tr>\n",
       "      <th>6</th>\n",
       "      <td>Won</td>\n",
       "      <td>Home</td>\n",
       "      <td>7pm</td>\n",
       "      <td>Yes</td>\n",
       "      <td>Center</td>\n",
       "      <td>Center</td>\n",
       "      <td>Tall</td>\n",
       "    </tr>\n",
       "    <tr>\n",
       "      <th>7</th>\n",
       "      <td>Won</td>\n",
       "      <td>Away</td>\n",
       "      <td>7pm</td>\n",
       "      <td>Yes</td>\n",
       "      <td>Center</td>\n",
       "      <td>Center</td>\n",
       "      <td>Short</td>\n",
       "    </tr>\n",
       "    <tr>\n",
       "      <th>8</th>\n",
       "      <td>Lost</td>\n",
       "      <td>Home</td>\n",
       "      <td>9pm</td>\n",
       "      <td>No</td>\n",
       "      <td>Forward</td>\n",
       "      <td>Center</td>\n",
       "      <td>Short</td>\n",
       "    </tr>\n",
       "    <tr>\n",
       "      <th>9</th>\n",
       "      <td>Lost</td>\n",
       "      <td>Away</td>\n",
       "      <td>7pm</td>\n",
       "      <td>No</td>\n",
       "      <td>Forward</td>\n",
       "      <td>Forward</td>\n",
       "      <td>Short</td>\n",
       "    </tr>\n",
       "    <tr>\n",
       "      <th>10</th>\n",
       "      <td>Won</td>\n",
       "      <td>Away</td>\n",
       "      <td>5pm</td>\n",
       "      <td>No</td>\n",
       "      <td>Center</td>\n",
       "      <td>Forward</td>\n",
       "      <td>Tall</td>\n",
       "    </tr>\n",
       "    <tr>\n",
       "      <th>11</th>\n",
       "      <td>Lost</td>\n",
       "      <td>Home</td>\n",
       "      <td>7pm</td>\n",
       "      <td>No</td>\n",
       "      <td>Center</td>\n",
       "      <td>Center</td>\n",
       "      <td>Tall</td>\n",
       "    </tr>\n",
       "    <tr>\n",
       "      <th>12</th>\n",
       "      <td>Lost</td>\n",
       "      <td>Home</td>\n",
       "      <td>9pm</td>\n",
       "      <td>No</td>\n",
       "      <td>Forward</td>\n",
       "      <td>Forward</td>\n",
       "      <td>Short</td>\n",
       "    </tr>\n",
       "    <tr>\n",
       "      <th>13</th>\n",
       "      <td>Lost</td>\n",
       "      <td>Away</td>\n",
       "      <td>9pm</td>\n",
       "      <td>Yes</td>\n",
       "      <td>Center</td>\n",
       "      <td>Forward</td>\n",
       "      <td>Short</td>\n",
       "    </tr>\n",
       "    <tr>\n",
       "      <th>14</th>\n",
       "      <td>Won</td>\n",
       "      <td>Home</td>\n",
       "      <td>7pm</td>\n",
       "      <td>Yes</td>\n",
       "      <td>Center</td>\n",
       "      <td>Center</td>\n",
       "      <td>Short</td>\n",
       "    </tr>\n",
       "    <tr>\n",
       "      <th>15</th>\n",
       "      <td>Won</td>\n",
       "      <td>Home</td>\n",
       "      <td>7pm</td>\n",
       "      <td>Yes</td>\n",
       "      <td>Center</td>\n",
       "      <td>Forward</td>\n",
       "      <td>Short</td>\n",
       "    </tr>\n",
       "    <tr>\n",
       "      <th>16</th>\n",
       "      <td>Lost</td>\n",
       "      <td>Home</td>\n",
       "      <td>5pm</td>\n",
       "      <td>No</td>\n",
       "      <td>Forward</td>\n",
       "      <td>Center</td>\n",
       "      <td>Short</td>\n",
       "    </tr>\n",
       "    <tr>\n",
       "      <th>17</th>\n",
       "      <td>Won</td>\n",
       "      <td>Home</td>\n",
       "      <td>7pm</td>\n",
       "      <td>Yes</td>\n",
       "      <td>Center</td>\n",
       "      <td>Forward</td>\n",
       "      <td>Tall</td>\n",
       "    </tr>\n",
       "    <tr>\n",
       "      <th>18</th>\n",
       "      <td>Lost</td>\n",
       "      <td>Away</td>\n",
       "      <td>5pm</td>\n",
       "      <td>No</td>\n",
       "      <td>Center</td>\n",
       "      <td>Center</td>\n",
       "      <td>Tall</td>\n",
       "    </tr>\n",
       "  </tbody>\n",
       "</table>\n",
       "</div>"
      ],
      "text/plain": [
       "   Outcome Where When Fred Starts JoeOffence JoeDefense OppCenter\n",
       "0      Won  Home  7pm         Yes    Forward     Center     Short\n",
       "1      Won  Away  7pm         Yes    Forward    Forward      Tall\n",
       "2     Lost  Home  5pm          No    Forward     Center      Tall\n",
       "3     Lost  Away  9pm         Yes    Forward    Forward     Short\n",
       "4      Won  Away  7pm          No     Center    Forward      Tall\n",
       "5     Lost  Home  7pm          No    Forward     Center      Tall\n",
       "6      Won  Home  7pm         Yes     Center     Center      Tall\n",
       "7      Won  Away  7pm         Yes     Center     Center     Short\n",
       "8     Lost  Home  9pm          No    Forward     Center     Short\n",
       "9     Lost  Away  7pm          No    Forward    Forward     Short\n",
       "10     Won  Away  5pm          No     Center    Forward      Tall\n",
       "11    Lost  Home  7pm          No     Center     Center      Tall\n",
       "12    Lost  Home  9pm          No    Forward    Forward     Short\n",
       "13    Lost  Away  9pm         Yes     Center    Forward     Short\n",
       "14     Won  Home  7pm         Yes     Center     Center     Short\n",
       "15     Won  Home  7pm         Yes     Center    Forward     Short\n",
       "16    Lost  Home  5pm          No    Forward     Center     Short\n",
       "17     Won  Home  7pm         Yes     Center    Forward      Tall\n",
       "18    Lost  Away  5pm          No     Center     Center      Tall"
      ]
     },
     "execution_count": 5,
     "metadata": {},
     "output_type": "execute_result"
    }
   ],
   "source": [
    "df"
   ]
  },
  {
   "cell_type": "markdown",
   "id": "ca8b6d0c",
   "metadata": {},
   "source": [
    "5. Binary encoding of some categorical variables. As descision tree works efficiently with categorical variables."
   ]
  },
  {
   "cell_type": "code",
   "execution_count": 6,
   "id": "4df97166",
   "metadata": {},
   "outputs": [],
   "source": [
    "# This fuction takes data frame, column name, & categorical values as input to encode them.\n",
    "def binary_encoder(df,col_name,val_1,val_0):\n",
    "    bina=[]\n",
    "    for x in df[col_name]:\n",
    "        if x==val_1:\n",
    "            bina.append(1)\n",
    "        elif x==val_0:\n",
    "            bina.append(0)\n",
    "    df[col_name]=bina        "
   ]
  },
  {
   "cell_type": "code",
   "execution_count": 7,
   "id": "6ab25149",
   "metadata": {},
   "outputs": [],
   "source": [
    "#encoding Won feature with Won=1 & Lost=0\n",
    "binary_encoder(df,\"Outcome\",\"Won\",\"Lost\")"
   ]
  },
  {
   "cell_type": "code",
   "execution_count": 8,
   "id": "d28d76a0",
   "metadata": {},
   "outputs": [
    {
     "data": {
      "text/html": [
       "<div>\n",
       "<style scoped>\n",
       "    .dataframe tbody tr th:only-of-type {\n",
       "        vertical-align: middle;\n",
       "    }\n",
       "\n",
       "    .dataframe tbody tr th {\n",
       "        vertical-align: top;\n",
       "    }\n",
       "\n",
       "    .dataframe thead th {\n",
       "        text-align: right;\n",
       "    }\n",
       "</style>\n",
       "<table border=\"1\" class=\"dataframe\">\n",
       "  <thead>\n",
       "    <tr style=\"text-align: right;\">\n",
       "      <th></th>\n",
       "      <th>Outcome</th>\n",
       "      <th>Where_Home</th>\n",
       "      <th>When_7pm</th>\n",
       "      <th>When_9pm</th>\n",
       "      <th>Fred Starts_Yes</th>\n",
       "      <th>JoeOffence_Forward</th>\n",
       "      <th>JoeDefense_Forward</th>\n",
       "      <th>OppCenter_Tall</th>\n",
       "    </tr>\n",
       "  </thead>\n",
       "  <tbody>\n",
       "    <tr>\n",
       "      <th>0</th>\n",
       "      <td>1</td>\n",
       "      <td>1</td>\n",
       "      <td>1</td>\n",
       "      <td>0</td>\n",
       "      <td>1</td>\n",
       "      <td>1</td>\n",
       "      <td>0</td>\n",
       "      <td>0</td>\n",
       "    </tr>\n",
       "    <tr>\n",
       "      <th>1</th>\n",
       "      <td>1</td>\n",
       "      <td>0</td>\n",
       "      <td>1</td>\n",
       "      <td>0</td>\n",
       "      <td>1</td>\n",
       "      <td>1</td>\n",
       "      <td>1</td>\n",
       "      <td>1</td>\n",
       "    </tr>\n",
       "    <tr>\n",
       "      <th>2</th>\n",
       "      <td>0</td>\n",
       "      <td>1</td>\n",
       "      <td>0</td>\n",
       "      <td>0</td>\n",
       "      <td>0</td>\n",
       "      <td>1</td>\n",
       "      <td>0</td>\n",
       "      <td>1</td>\n",
       "    </tr>\n",
       "    <tr>\n",
       "      <th>3</th>\n",
       "      <td>0</td>\n",
       "      <td>0</td>\n",
       "      <td>0</td>\n",
       "      <td>1</td>\n",
       "      <td>1</td>\n",
       "      <td>1</td>\n",
       "      <td>1</td>\n",
       "      <td>0</td>\n",
       "    </tr>\n",
       "    <tr>\n",
       "      <th>4</th>\n",
       "      <td>1</td>\n",
       "      <td>0</td>\n",
       "      <td>1</td>\n",
       "      <td>0</td>\n",
       "      <td>0</td>\n",
       "      <td>0</td>\n",
       "      <td>1</td>\n",
       "      <td>1</td>\n",
       "    </tr>\n",
       "  </tbody>\n",
       "</table>\n",
       "</div>"
      ],
      "text/plain": [
       "   Outcome  Where_Home  When_7pm  When_9pm  Fred Starts_Yes  \\\n",
       "0        1           1         1         0                1   \n",
       "1        1           0         1         0                1   \n",
       "2        0           1         0         0                0   \n",
       "3        0           0         0         1                1   \n",
       "4        1           0         1         0                0   \n",
       "\n",
       "   JoeOffence_Forward  JoeDefense_Forward  OppCenter_Tall  \n",
       "0                   1                   0               0  \n",
       "1                   1                   1               1  \n",
       "2                   1                   0               1  \n",
       "3                   1                   1               0  \n",
       "4                   0                   1               1  "
      ]
     },
     "execution_count": 8,
     "metadata": {},
     "output_type": "execute_result"
    }
   ],
   "source": [
    "one_hot_data = pd.get_dummies(df[['Outcome', 'Where', 'When', 'Fred Starts', 'JoeOffence', 'JoeDefense','OppCenter']],drop_first=True)\n",
    "one_hot_data.head()"
   ]
  },
  {
   "cell_type": "code",
   "execution_count": 9,
   "id": "f18a5eca",
   "metadata": {},
   "outputs": [
    {
     "data": {
      "text/plain": [
       "Index(['Outcome', 'Where_Home', 'When_7pm', 'When_9pm', 'Fred Starts_Yes',\n",
       "       'JoeOffence_Forward', 'JoeDefense_Forward', 'OppCenter_Tall'],\n",
       "      dtype='object')"
      ]
     },
     "execution_count": 9,
     "metadata": {},
     "output_type": "execute_result"
    }
   ],
   "source": [
    "one_hot_data.columns"
   ]
  },
  {
   "cell_type": "markdown",
   "id": "e120f8db",
   "metadata": {},
   "source": [
    "======================================================================================================================================== Why get_dummies instead of label_encoder  ================================================================================================================================\n",
    "\n",
    "Here we considered the \"When\" as three classes 7, 5 and 9 pm. If we have to consider these in the order then only the label encoder comes into play, other ways we can stick with the get dummies. If we have to consider the order in the time then the etire problem should be consider in time series. If avoiding the autocorrelation we used get dummies, that is these as each classes. "
   ]
  },
  {
   "cell_type": "code",
   "execution_count": 10,
   "id": "35676b20",
   "metadata": {},
   "outputs": [],
   "source": [
    "# Holding the results in a list\n",
    "scores_accuracy = []"
   ]
  },
  {
   "cell_type": "markdown",
   "id": "7bf94a14",
   "metadata": {},
   "source": [
    "5. Doing train test split such on the data"
   ]
  },
  {
   "cell_type": "code",
   "execution_count": 11,
   "id": "d8b4e6cb",
   "metadata": {},
   "outputs": [],
   "source": [
    "X = one_hot_data[['Where_Home', 'When_7pm', 'When_9pm', 'Fred Starts_Yes',\n",
    "       'JoeOffence_Forward', 'JoeDefense_Forward', 'OppCenter_Tall']]\n",
    "y = one_hot_data['Outcome']\n",
    "X_train, X_test, y_train, y_test = train_test_split(X, y, test_size=0.33, random_state=42)\n",
    "clf = tree.DecisionTreeClassifier()"
   ]
  },
  {
   "cell_type": "code",
   "execution_count": 12,
   "id": "e88b45a9",
   "metadata": {},
   "outputs": [
    {
     "data": {
      "text/plain": [
       "((12, 7), (7, 7), (12,), (7,))"
      ]
     },
     "execution_count": 12,
     "metadata": {},
     "output_type": "execute_result"
    }
   ],
   "source": [
    "X_train.shape, X_test.shape, y_train.shape, y_test.shape"
   ]
  },
  {
   "cell_type": "code",
   "execution_count": 55,
   "id": "643102bd",
   "metadata": {},
   "outputs": [
    {
     "data": {
      "text/plain": [
       "Where_Home            6\n",
       "When_7pm              7\n",
       "When_9pm              2\n",
       "Fred Starts_Yes       6\n",
       "JoeOffence_Forward    3\n",
       "JoeDefense_Forward    7\n",
       "OppCenter_Tall        6\n",
       "dtype: int64"
      ]
     },
     "execution_count": 55,
     "metadata": {},
     "output_type": "execute_result"
    }
   ],
   "source": [
    "X_train.sum()"
   ]
  },
  {
   "cell_type": "markdown",
   "id": "0ba3d491",
   "metadata": {},
   "source": [
    "6. Modelling Decision Tree"
   ]
  },
  {
   "cell_type": "code",
   "execution_count": 13,
   "id": "dbe14b5a",
   "metadata": {},
   "outputs": [],
   "source": [
    "clf = tree.DecisionTreeClassifier()\n",
    "clf = clf.fit(X_train, y_train)"
   ]
  },
  {
   "cell_type": "markdown",
   "id": "1a103eee",
   "metadata": {},
   "source": [
    "7. Predicting using test data"
   ]
  },
  {
   "cell_type": "code",
   "execution_count": 14,
   "id": "d2a411e8",
   "metadata": {},
   "outputs": [],
   "source": [
    "y_pred=clf.predict(X_test)"
   ]
  },
  {
   "cell_type": "markdown",
   "id": "2bccd46d",
   "metadata": {},
   "source": [
    "8. Confsion Matrix"
   ]
  },
  {
   "cell_type": "code",
   "execution_count": 15,
   "id": "69d233ff",
   "metadata": {},
   "outputs": [
    {
     "data": {
      "image/png": "[encoded data removed]",
      "text/plain": [
       "<Figure size 640x480 with 2 Axes>"
      ]
     },
     "metadata": {},
     "output_type": "display_data"
    }
   ],
   "source": [
    "plot_confusion_matrix(clf, X_test, y_test) \n",
    "plt.title(\"Confusion Matrix Logistic Reg\")\n",
    "plt.show()"
   ]
  },
  {
   "cell_type": "markdown",
   "id": "679c9661",
   "metadata": {},
   "source": [
    "From the confusion matrix we can see that, from the test data, zero observation are predicted false if it is actually false. Four observations are predicted true when they are true. One observation is predicted 1 when it was 0 and two observations predicted 0 when it was 1 in real."
   ]
  },
  {
   "cell_type": "markdown",
   "id": "3585fe19",
   "metadata": {},
   "source": [
    "9. ROC curve"
   ]
  },
  {
   "cell_type": "code",
   "execution_count": 16,
   "id": "4f09e01b",
   "metadata": {},
   "outputs": [
    {
     "data": {
      "text/plain": [
       "Text(0.5, 1.0, 'ROC Curve')"
      ]
     },
     "execution_count": 16,
     "metadata": {},
     "output_type": "execute_result"
    },
    {
     "data": {
      "image/png": "[encoded data removed]",
      "text/plain": [
       "<Figure size 640x480 with 1 Axes>"
      ]
     },
     "metadata": {},
     "output_type": "display_data"
    }
   ],
   "source": [
    "from sklearn import metrics, model_selection\n",
    "metrics.plot_roc_curve(clf, X_test, y_test) \n",
    "plt.title(\"ROC Curve\")"
   ]
  },
  {
   "cell_type": "markdown",
   "id": "8491926f",
   "metadata": {},
   "source": [
    "10. Accuracy Score"
   ]
  },
  {
   "cell_type": "code",
   "execution_count": 17,
   "id": "963e9396",
   "metadata": {},
   "outputs": [
    {
     "data": {
      "text/plain": [
       "0.5714285714285714"
      ]
     },
     "execution_count": 17,
     "metadata": {},
     "output_type": "execute_result"
    }
   ],
   "source": [
    "from sklearn.metrics import accuracy_score\n",
    "accuracy_score(y_test, y_pred)"
   ]
  },
  {
   "cell_type": "code",
   "execution_count": 18,
   "id": "ae1ccd88",
   "metadata": {},
   "outputs": [
    {
     "name": "stdout",
     "output_type": "stream",
     "text": [
      "print accuracy of decision tree algo:  0.5714285714285714\n"
     ]
    }
   ],
   "source": [
    "# Decision Tree Classification\n",
    "\n",
    "from sklearn.tree import DecisionTreeClassifier\n",
    "dt=DecisionTreeClassifier()\n",
    "dt.fit(X_train,y_train)\n",
    "\n",
    "dt_score = dt.score(X_test,y_test)\n",
    "scores_accuracy.append([\"DT\",dt_score])\n",
    "\n",
    "print(\"print accuracy of decision tree algo: \",dt.score(X_test,y_test))\n"
   ]
  },
  {
   "cell_type": "markdown",
   "id": "bf0dec4d",
   "metadata": {},
   "source": [
    "11. Classification report"
   ]
  },
  {
   "cell_type": "code",
   "execution_count": 19,
   "id": "8dfcb7b7",
   "metadata": {},
   "outputs": [
    {
     "name": "stdout",
     "output_type": "stream",
     "text": [
      "              precision    recall  f1-score   support\n",
      "\n",
      "           0       0.67      0.80      0.73         5\n",
      "           1       0.00      0.00      0.00         2\n",
      "\n",
      "    accuracy                           0.57         7\n",
      "   macro avg       0.33      0.40      0.36         7\n",
      "weighted avg       0.48      0.57      0.52         7\n",
      "\n"
     ]
    }
   ],
   "source": [
    "from sklearn.metrics import classification_report\n",
    "target_names=[\"0\",\"1\"]\n",
    "print(classification_report(y_test, y_pred, target_names=target_names))"
   ]
  },
  {
   "cell_type": "code",
   "execution_count": 52,
   "id": "63696aae",
   "metadata": {},
   "outputs": [
    {
     "data": {
      "text/plain": [
       "[Text(0.6666666666666666, 0.9, 'X[4] <= 0.5\\ngini = 0.486\\nsamples = 12\\nvalue = [5, 7]'),\n",
       " Text(0.5, 0.7, 'X[1] <= 0.5\\ngini = 0.346\\nsamples = 9\\nvalue = [2, 7]'),\n",
       " Text(0.3333333333333333, 0.5, 'X[6] <= 0.5\\ngini = 0.444\\nsamples = 3\\nvalue = [2, 1]'),\n",
       " Text(0.16666666666666666, 0.3, 'gini = 0.0\\nsamples = 1\\nvalue = [1, 0]'),\n",
       " Text(0.5, 0.3, 'X[5] <= 0.5\\ngini = 0.5\\nsamples = 2\\nvalue = [1, 1]'),\n",
       " Text(0.3333333333333333, 0.1, 'gini = 0.0\\nsamples = 1\\nvalue = [1, 0]'),\n",
       " Text(0.6666666666666666, 0.1, 'gini = 0.0\\nsamples = 1\\nvalue = [0, 1]'),\n",
       " Text(0.6666666666666666, 0.5, 'gini = 0.0\\nsamples = 6\\nvalue = [0, 6]'),\n",
       " Text(0.8333333333333334, 0.7, 'gini = 0.0\\nsamples = 3\\nvalue = [3, 0]')]"
      ]
     },
     "execution_count": 52,
     "metadata": {},
     "output_type": "execute_result"
    },
    {
     "data": {
      "image/png": "[encoded data removed]",
      "text/plain": [
       "<Figure size 1200x800 with 1 Axes>"
      ]
     },
     "metadata": {},
     "output_type": "display_data"
    }
   ],
   "source": [
    "plt.figure(figsize=(12,8))\n",
    "\n",
    "from sklearn import tree\n",
    "\n",
    "tree.plot_tree(dt.fit(X_train, y_train))"
   ]
  },
  {
   "cell_type": "markdown",
   "id": "59251a2a",
   "metadata": {},
   "source": [
    "# Decision tree impression\n",
    "\n",
    "The decision tree results using this basketball data is not accurate enough to predict well. So it is better to opt other algorithms with this data. "
   ]
  },
  {
   "cell_type": "markdown",
   "id": "ef2401df",
   "metadata": {},
   "source": [
    "# Model Comparison"
   ]
  },
  {
   "cell_type": "code",
   "execution_count": 20,
   "id": "f9ad8f20",
   "metadata": {},
   "outputs": [
    {
     "name": "stdout",
     "output_type": "stream",
     "text": [
      "test accuracy 0.7142857142857143\n"
     ]
    }
   ],
   "source": [
    "# Logistic regression classication\n",
    "# LR with sklearn\n",
    "\n",
    "from sklearn.linear_model import LogisticRegression\n",
    "lr= LogisticRegression()\n",
    "lr.fit(X_train,y_train)\n",
    "\n",
    "lr_score = lr.score(X_test,y_test)\n",
    "scores_accuracy.append([\"LR\",lr_score])\n",
    "\n",
    "print(\"test accuracy {}\".format(lr.score(X_test,y_test)))"
   ]
  },
  {
   "cell_type": "code",
   "execution_count": 21,
   "id": "5c0e0b2c",
   "metadata": {},
   "outputs": [
    {
     "name": "stdout",
     "output_type": "stream",
     "text": [
      " 9 nn score: 0.5714285714285714 \n"
     ]
    }
   ],
   "source": [
    "# KNN  classification\n",
    "# Knn with sklearn\n",
    "from sklearn.neighbors import KNeighborsClassifier\n",
    "knn = KNeighborsClassifier(n_neighbors = 9) # n_neighbors = k\n",
    "knn.fit(X_train,y_train)\n",
    "prediction = knn.predict(X_test)\n",
    "\n",
    "knn_score = knn.score(X_test,y_test)\n",
    "scores_accuracy.append([\"KNN\",knn_score])\n",
    "print(\" {} nn score: {} \".format(9,knn.score(X_test,y_test)))"
   ]
  },
  {
   "cell_type": "code",
   "execution_count": 22,
   "id": "341991a5",
   "metadata": {},
   "outputs": [
    {
     "name": "stdout",
     "output_type": "stream",
     "text": [
      "accuracy of svm algo:  0.8571428571428571\n"
     ]
    }
   ],
   "source": [
    "# SVM Classification\n",
    "# SVM with sklearn\n",
    "\n",
    "from sklearn.svm import SVC\n",
    "\n",
    "svm = SVC(random_state=1)\n",
    "svm.fit(X_train,y_train)\n",
    "\n",
    "svm_score = svm.score(X_test,y_test)\n",
    "scores_accuracy.append([\"SVM\",svm_score])\n",
    "\n",
    "print(\"accuracy of svm algo: \", svm.score(X_test,y_test))"
   ]
  },
  {
   "cell_type": "code",
   "execution_count": 23,
   "id": "0bb0f470",
   "metadata": {},
   "outputs": [
    {
     "name": "stdout",
     "output_type": "stream",
     "text": [
      "random forest result:  0.8571428571428571\n"
     ]
    }
   ],
   "source": [
    "# Randon Forest Classification\n",
    "#Random Forest With Sklearn\n",
    "\n",
    "from sklearn.ensemble import RandomForestClassifier\n",
    "rf= RandomForestClassifier(n_estimators=100,random_state=1) # n_estimators= number of trees\n",
    "rf.fit(X_train,y_train)\n",
    "\n",
    "rf_score = rf.score(X_test,y_test)\n",
    "scores_accuracy.append([\"RF\",rf_score])\n",
    "\n",
    "print(\"random forest result: \", rf.score(X_test,y_test))"
   ]
  },
  {
   "cell_type": "code",
   "execution_count": 24,
   "id": "965eda23",
   "metadata": {},
   "outputs": [
    {
     "data": {
      "text/plain": [
       "[['DT', 0.5714285714285714],\n",
       " ['LR', 0.7142857142857143],\n",
       " ['KNN', 0.5714285714285714],\n",
       " ['SVM', 0.8571428571428571],\n",
       " ['RF', 0.8571428571428571]]"
      ]
     },
     "execution_count": 24,
     "metadata": {},
     "output_type": "execute_result"
    }
   ],
   "source": [
    "scores_accuracy"
   ]
  },
  {
   "cell_type": "code",
   "execution_count": 25,
   "id": "718abf0b",
   "metadata": {},
   "outputs": [
    {
     "data": {
      "image/png": "[encoded data removed]",
      "text/plain": [
       "<Figure size 1800x1000 with 1 Axes>"
      ]
     },
     "metadata": {},
     "output_type": "display_data"
    }
   ],
   "source": [
    "algorithms=(\"LR\",\"DT\",\"RF\",\"KNN\",\"SVM\")\n",
    "scores = (lr_score,dt_score,rf_score,knn_score, svm_score)\n",
    "y_pos = np.arange(1,6)\n",
    "colors = (\"red\",\"gray\",\"purple\",\"green\",\"orange\")\n",
    "plt.figure(figsize=(18,10))\n",
    "plt.bar(y_pos,scores,color=colors)\n",
    "plt.xticks(y_pos,algorithms,fontsize=18)\n",
    "plt.yticks(np.arange(0.00, 1.01, step=0.05))\n",
    "plt.grid()\n",
    "plt.suptitle(\"Bar Chart Comparison of Models\",fontsize=15)\n",
    "plt.show()"
   ]
  },
  {
   "cell_type": "code",
   "execution_count": null,
   "id": "b63377ee",
   "metadata": {},
   "outputs": [],
   "source": []
  },
  {
   "cell_type": "markdown",
   "id": "bdcf082d",
   "metadata": {},
   "source": [
    "# Conclusion\n",
    "\n",
    "From the above graph it is clear that, decision tree and KNN performs least among the rest of models. At the same Random forest and SVM performs better than the other model we have tried. "
   ]
  },
  {
   "cell_type": "code",
   "execution_count": null,
   "id": "c11e2001",
   "metadata": {},
   "outputs": [],
   "source": []
  },
  {
   "cell_type": "code",
   "execution_count": null,
   "id": "77068d44",
   "metadata": {},
   "outputs": [],
   "source": []
  },
  {
   "cell_type": "code",
   "execution_count": null,
   "id": "e947ff60",
   "metadata": {},
   "outputs": [],
   "source": []
  }
 ],
 "metadata": {
  "kernelspec": {
   "display_name": "Python 3 (ipykernel)",
   "language": "python",
   "name": "python3"
  },
  "language_info": {
   "codemirror_mode": {
    "name": "ipython",
    "version": 3
   },
   "file_extension": ".py",
   "mimetype": "text/x-python",
   "name": "python",
   "nbconvert_exporter": "python",
   "pygments_lexer": "ipython3",
   "version": "3.10.7"
  }
 },
 "nbformat": 4,
 "nbformat_minor": 5
}
